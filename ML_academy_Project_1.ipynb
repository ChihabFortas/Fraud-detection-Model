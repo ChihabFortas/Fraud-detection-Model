{
  "cells": [
    {
      "cell_type": "markdown",
      "metadata": {
        "id": "fj-J5trrMTSP"
      },
      "source": [
        "# **Fraud Detection using regression model**\n",
        "\n",
        "#### **Project overview**\n",
        "The Tunisian company of electricity and gaz (STEG) is a non-administrative company, it is responsible for delivering electricity and gaz across Tunisia.\n",
        "The company sufferred tremendous losses in order of 200 million tunisian dinars due to fraudelant manipulations of meters by consumers.\n",
        "\n",
        "in this project we will be using data gathered by the company (Clients billing/consumption history) to detect and recognize clients involved in fraudelent activities. "
      ]
    },
    {
      "cell_type": "markdown",
      "metadata": {
        "id": "VVH4-IPgOOlv"
      },
      "source": [
        "####**Project structure** \n",
        "before start writing any code, first we need to understand the problem in details and set a some milestones to achieve in this project.\n",
        "\n",
        "- Exploratory Data Analysis\n",
        "  - downloading the data and converting it into a readable dataset\n",
        "  - understanding the data \n",
        "  - Data preparation and cleaning\n",
        "  - Deciding the features to build the model\n",
        "\n",
        "- Model creation\n",
        "  - Decide which type of Model fit to solve the problem in hand\n",
        "  - Create the model based on input and output shape and the depth of model network\n",
        "  - Create the model hyperparamater\n",
        "  - create the training job \n",
        "\n",
        "- Visualizing and tuning\n",
        "  - continue visualizing and tuning the hyperparamaters until we reach a optimized state\n",
        "  - Model validation and testing"
      ]
    },
    {
      "cell_type": "code",
      "execution_count": 1,
      "metadata": {
        "id": "okxfLiHCRhS6"
      },
      "outputs": [],
      "source": [
        "# For Python 2 / 3 compatability\n",
        "from __future__ import print_function"
      ]
    },
    {
      "cell_type": "code",
      "execution_count": 2,
      "metadata": {
        "colab": {
          "base_uri": "https://localhost:8080/"
        },
        "id": "Dz14LGv-Lpa8",
        "outputId": "4510b57e-b570-4e3d-b6e1-3442a85465d0"
      },
      "outputs": [
        {
          "output_type": "stream",
          "name": "stdout",
          "text": [
            "Imported modules.\n"
          ]
        }
      ],
      "source": [
        "import numpy as np\n",
        "import pandas as pd\n",
        "import tensorflow as tf\n",
        "from tensorflow.keras import layers\n",
        "from matplotlib import pyplot as plt\n",
        "from matplotlib.pyplot import figure\n",
        "import seaborn as sns\n",
        "\n",
        "# The following lines adjust the granularity of reporting. \n",
        "pd.options.display.max_rows = 10\n",
        "pd.options.display.float_format = \"{:.1f}\".format\n",
        "\n",
        "print(\"Imported modules.\")"
      ]
    },
    {
      "cell_type": "markdown",
      "metadata": {
        "id": "6CzM0T4mRvAK"
      },
      "source": [
        "#Load the dataset\n",
        "we will be using the dataset provided to us by the ML academy via google drive. The following code cell download the data from google drive, loads it and then creates the following two pandas DataFrames:\n",
        "\n",
        "*   train_df, which contains the training set\n",
        "\n",
        "*   test_df, which contains the test set"
      ]
    },
    {
      "cell_type": "code",
      "execution_count": 5,
      "metadata": {
        "colab": {
          "base_uri": "https://localhost:8080/"
        },
        "id": "d5YgEn1_iE4c",
        "outputId": "da4abf0f-11c8-4fd2-bd73-f3cfb6d5f46b"
      },
      "outputs": [
        {
          "output_type": "stream",
          "name": "stdout",
          "text": [
            "Downloading...\n",
            "From: https://drive.google.com/uc?id=1DxxZ166bZ8MocyM210DODckm926xm4HJ\n",
            "To: /content/train.zip\n",
            "100% 64.2M/64.2M [00:00<00:00, 74.1MB/s]\n",
            "Downloading...\n",
            "From: https://drive.google.com/uc?id=1Unhg1OagxzEmaiCvgqLbRumIoDjx4AcV\n",
            "To: /content/test.zip\n",
            "100% 27.7M/27.7M [00:00<00:00, 53.7MB/s]\n"
          ]
        }
      ],
      "source": [
        "#Downloading the train.zip file from the provided link https://drive.google.com/file/d/1DxxZ166bZ8MocyM210DODckm926xm4HJ/view?usp=sharing\n",
        "!gdown --id '1DxxZ166bZ8MocyM210DODckm926xm4HJ'\n",
        "\n",
        "#Downloading the test.zip file from the provided link https://drive.google.com/file/d/1Unhg1OagxzEmaiCvgqLbRumIoDjx4AcV/view?usp=sharing\n",
        "!gdown --id '1Unhg1OagxzEmaiCvgqLbRumIoDjx4AcV'"
      ]
    },
    {
      "cell_type": "code",
      "execution_count": 6,
      "metadata": {
        "id": "l6FtO5jLi9qN"
      },
      "outputs": [],
      "source": [
        "from zipfile import ZipFile\n",
        "files = ['train.zip', 'test.zip']\n",
        "export_path = \"dataset/\"\n",
        "for f in files:\n",
        "  zf = ZipFile(f, 'r')\n",
        "  zf.extractall(export_path)\n",
        "  zf.close()"
      ]
    },
    {
      "cell_type": "markdown",
      "metadata": {
        "id": "vbG8b6vV0zJf"
      },
      "source": [
        "## Exploratory Data Analysis"
      ]
    },
    {
      "cell_type": "code",
      "execution_count": 7,
      "metadata": {
        "colab": {
          "base_uri": "https://localhost:8080/"
        },
        "id": "xt0VK1cU0zJg",
        "outputId": "c1591576-8896-4cf2-b7db-b9b08316c318"
      },
      "outputs": [
        {
          "output_type": "stream",
          "name": "stderr",
          "text": [
            "/usr/local/lib/python3.7/dist-packages/IPython/core/interactiveshell.py:2822: DtypeWarning: Columns (4) have mixed types.Specify dtype option on import or set low_memory=False.\n",
            "  if self.run_code(code, result):\n"
          ]
        }
      ],
      "source": [
        "file_names = ['client_test', 'invoice_test', 'client_train', 'invoice_train']\n",
        "data = {\n",
        "    file_name: pd.read_csv(f'./dataset/{file_name}.csv') for file_name in file_names\n",
        "}"
      ]
    },
    {
      "cell_type": "code",
      "execution_count": 9,
      "metadata": {
        "colab": {
          "base_uri": "https://localhost:8080/"
        },
        "id": "9RpPsc_A0zJi",
        "outputId": "be0dfd1d-00b6-418d-9eaf-0d4ae3fc0820"
      },
      "outputs": [
        {
          "output_type": "stream",
          "name": "stdout",
          "text": [
            "<class 'pandas.core.frame.DataFrame'>\n",
            "RangeIndex: 135493 entries, 0 to 135492\n",
            "Data columns (total 6 columns):\n",
            " #   Column         Non-Null Count   Dtype  \n",
            "---  ------         --------------   -----  \n",
            " 0   disrict        135493 non-null  int64  \n",
            " 1   client_id      135493 non-null  object \n",
            " 2   client_catg    135493 non-null  int64  \n",
            " 3   region         135493 non-null  int64  \n",
            " 4   creation_date  135493 non-null  object \n",
            " 5   target         135493 non-null  float64\n",
            "dtypes: float64(1), int64(3), object(2)\n",
            "memory usage: 6.2+ MB\n"
          ]
        }
      ],
      "source": [
        "data['client_train'].info()"
      ]
    },
    {
      "cell_type": "code",
      "execution_count": 8,
      "metadata": {
        "colab": {
          "base_uri": "https://localhost:8080/",
          "height": 300
        },
        "id": "BdumSex30zJj",
        "outputId": "88b6a290-ce24-4d48-a789-1228d78d821f"
      },
      "outputs": [
        {
          "output_type": "execute_result",
          "data": {
            "text/html": [
              "\n",
              "  <div id=\"df-021af430-8a0b-407d-ac01-d1c3f10152da\">\n",
              "    <div class=\"colab-df-container\">\n",
              "      <div>\n",
              "<style scoped>\n",
              "    .dataframe tbody tr th:only-of-type {\n",
              "        vertical-align: middle;\n",
              "    }\n",
              "\n",
              "    .dataframe tbody tr th {\n",
              "        vertical-align: top;\n",
              "    }\n",
              "\n",
              "    .dataframe thead th {\n",
              "        text-align: right;\n",
              "    }\n",
              "</style>\n",
              "<table border=\"1\" class=\"dataframe\">\n",
              "  <thead>\n",
              "    <tr style=\"text-align: right;\">\n",
              "      <th></th>\n",
              "      <th>disrict</th>\n",
              "      <th>client_catg</th>\n",
              "      <th>region</th>\n",
              "      <th>target</th>\n",
              "    </tr>\n",
              "  </thead>\n",
              "  <tbody>\n",
              "    <tr>\n",
              "      <th>count</th>\n",
              "      <td>135493.0</td>\n",
              "      <td>135493.0</td>\n",
              "      <td>135493.0</td>\n",
              "      <td>135493.0</td>\n",
              "    </tr>\n",
              "    <tr>\n",
              "      <th>mean</th>\n",
              "      <td>63.5</td>\n",
              "      <td>11.5</td>\n",
              "      <td>206.2</td>\n",
              "      <td>0.1</td>\n",
              "    </tr>\n",
              "    <tr>\n",
              "      <th>std</th>\n",
              "      <td>3.4</td>\n",
              "      <td>4.4</td>\n",
              "      <td>104.2</td>\n",
              "      <td>0.2</td>\n",
              "    </tr>\n",
              "    <tr>\n",
              "      <th>min</th>\n",
              "      <td>60.0</td>\n",
              "      <td>11.0</td>\n",
              "      <td>101.0</td>\n",
              "      <td>0.0</td>\n",
              "    </tr>\n",
              "    <tr>\n",
              "      <th>25%</th>\n",
              "      <td>62.0</td>\n",
              "      <td>11.0</td>\n",
              "      <td>103.0</td>\n",
              "      <td>0.0</td>\n",
              "    </tr>\n",
              "    <tr>\n",
              "      <th>50%</th>\n",
              "      <td>62.0</td>\n",
              "      <td>11.0</td>\n",
              "      <td>107.0</td>\n",
              "      <td>0.0</td>\n",
              "    </tr>\n",
              "    <tr>\n",
              "      <th>75%</th>\n",
              "      <td>69.0</td>\n",
              "      <td>11.0</td>\n",
              "      <td>307.0</td>\n",
              "      <td>0.0</td>\n",
              "    </tr>\n",
              "    <tr>\n",
              "      <th>max</th>\n",
              "      <td>69.0</td>\n",
              "      <td>51.0</td>\n",
              "      <td>399.0</td>\n",
              "      <td>1.0</td>\n",
              "    </tr>\n",
              "  </tbody>\n",
              "</table>\n",
              "</div>\n",
              "      <button class=\"colab-df-convert\" onclick=\"convertToInteractive('df-021af430-8a0b-407d-ac01-d1c3f10152da')\"\n",
              "              title=\"Convert this dataframe to an interactive table.\"\n",
              "              style=\"display:none;\">\n",
              "        \n",
              "  <svg xmlns=\"http://www.w3.org/2000/svg\" height=\"24px\"viewBox=\"0 0 24 24\"\n",
              "       width=\"24px\">\n",
              "    <path d=\"M0 0h24v24H0V0z\" fill=\"none\"/>\n",
              "    <path d=\"M18.56 5.44l.94 2.06.94-2.06 2.06-.94-2.06-.94-.94-2.06-.94 2.06-2.06.94zm-11 1L8.5 8.5l.94-2.06 2.06-.94-2.06-.94L8.5 2.5l-.94 2.06-2.06.94zm10 10l.94 2.06.94-2.06 2.06-.94-2.06-.94-.94-2.06-.94 2.06-2.06.94z\"/><path d=\"M17.41 7.96l-1.37-1.37c-.4-.4-.92-.59-1.43-.59-.52 0-1.04.2-1.43.59L10.3 9.45l-7.72 7.72c-.78.78-.78 2.05 0 2.83L4 21.41c.39.39.9.59 1.41.59.51 0 1.02-.2 1.41-.59l7.78-7.78 2.81-2.81c.8-.78.8-2.07 0-2.86zM5.41 20L4 18.59l7.72-7.72 1.47 1.35L5.41 20z\"/>\n",
              "  </svg>\n",
              "      </button>\n",
              "      \n",
              "  <style>\n",
              "    .colab-df-container {\n",
              "      display:flex;\n",
              "      flex-wrap:wrap;\n",
              "      gap: 12px;\n",
              "    }\n",
              "\n",
              "    .colab-df-convert {\n",
              "      background-color: #E8F0FE;\n",
              "      border: none;\n",
              "      border-radius: 50%;\n",
              "      cursor: pointer;\n",
              "      display: none;\n",
              "      fill: #1967D2;\n",
              "      height: 32px;\n",
              "      padding: 0 0 0 0;\n",
              "      width: 32px;\n",
              "    }\n",
              "\n",
              "    .colab-df-convert:hover {\n",
              "      background-color: #E2EBFA;\n",
              "      box-shadow: 0px 1px 2px rgba(60, 64, 67, 0.3), 0px 1px 3px 1px rgba(60, 64, 67, 0.15);\n",
              "      fill: #174EA6;\n",
              "    }\n",
              "\n",
              "    [theme=dark] .colab-df-convert {\n",
              "      background-color: #3B4455;\n",
              "      fill: #D2E3FC;\n",
              "    }\n",
              "\n",
              "    [theme=dark] .colab-df-convert:hover {\n",
              "      background-color: #434B5C;\n",
              "      box-shadow: 0px 1px 3px 1px rgba(0, 0, 0, 0.15);\n",
              "      filter: drop-shadow(0px 1px 2px rgba(0, 0, 0, 0.3));\n",
              "      fill: #FFFFFF;\n",
              "    }\n",
              "  </style>\n",
              "\n",
              "      <script>\n",
              "        const buttonEl =\n",
              "          document.querySelector('#df-021af430-8a0b-407d-ac01-d1c3f10152da button.colab-df-convert');\n",
              "        buttonEl.style.display =\n",
              "          google.colab.kernel.accessAllowed ? 'block' : 'none';\n",
              "\n",
              "        async function convertToInteractive(key) {\n",
              "          const element = document.querySelector('#df-021af430-8a0b-407d-ac01-d1c3f10152da');\n",
              "          const dataTable =\n",
              "            await google.colab.kernel.invokeFunction('convertToInteractive',\n",
              "                                                     [key], {});\n",
              "          if (!dataTable) return;\n",
              "\n",
              "          const docLinkHtml = 'Like what you see? Visit the ' +\n",
              "            '<a target=\"_blank\" href=https://colab.research.google.com/notebooks/data_table.ipynb>data table notebook</a>'\n",
              "            + ' to learn more about interactive tables.';\n",
              "          element.innerHTML = '';\n",
              "          dataTable['output_type'] = 'display_data';\n",
              "          await google.colab.output.renderOutput(dataTable, element);\n",
              "          const docLink = document.createElement('div');\n",
              "          docLink.innerHTML = docLinkHtml;\n",
              "          element.appendChild(docLink);\n",
              "        }\n",
              "      </script>\n",
              "    </div>\n",
              "  </div>\n",
              "  "
            ],
            "text/plain": [
              "       disrict  client_catg   region   target\n",
              "count 135493.0     135493.0 135493.0 135493.0\n",
              "mean      63.5         11.5    206.2      0.1\n",
              "std        3.4          4.4    104.2      0.2\n",
              "min       60.0         11.0    101.0      0.0\n",
              "25%       62.0         11.0    103.0      0.0\n",
              "50%       62.0         11.0    107.0      0.0\n",
              "75%       69.0         11.0    307.0      0.0\n",
              "max       69.0         51.0    399.0      1.0"
            ]
          },
          "metadata": {},
          "execution_count": 8
        }
      ],
      "source": [
        "data['client_train'].describe()"
      ]
    },
    {
      "cell_type": "markdown",
      "metadata": {
        "id": "xJeZSQGA0zJl"
      },
      "source": [
        "The exploration of data types reveals that most columns have appropriate types, except for the client_id that should be set to a string and the creation date that should be transformed into a datetime. The description also show that there is no missing data in the dataset for all columns. The district and the client_catg seem to have very close values with a quantile having very close values."
      ]
    },
    {
      "cell_type": "code",
      "execution_count": 10,
      "metadata": {
        "colab": {
          "base_uri": "https://localhost:8080/",
          "height": 367
        },
        "id": "DApHpyLC0zJl",
        "outputId": "7a3866c8-bc3c-4bc1-b4ae-66bc112bc07c"
      },
      "outputs": [
        {
          "output_type": "execute_result",
          "data": {
            "text/plain": [
              "Text(0.5, 1.0, 'The number of clients per region')"
            ]
          },
          "metadata": {},
          "execution_count": 10
        },
        {
          "output_type": "display_data",
          "data": {
            "image/png": "[encoded data removed]",
            "text/plain": [
              "<Figure size 1440x360 with 1 Axes>"
            ]
          },
          "metadata": {
            "needs_background": "light"
          }
        }
      ],
      "source": [
        "figure(figsize=(20,5))\n",
        "data['client_train']['region'].value_counts().plot(kind='barh')\n",
        "plt.xlabel('Count')\n",
        "plt.ylabel('Regions')\n",
        "plt.title('The number of clients per region')"
      ]
    },
    {
      "cell_type": "markdown",
      "metadata": {
        "id": "Y-vDAGpv0zJn"
      },
      "source": [
        "As it is clear in the plot, most of the clients are coming from the region 101. The clients are note uniformaly distributed cross regions and this may create bias in the final model."
      ]
    },
    {
      "cell_type": "code",
      "execution_count": 11,
      "metadata": {
        "colab": {
          "base_uri": "https://localhost:8080/",
          "height": 666
        },
        "id": "MWMNXGGE0zJn",
        "outputId": "1c27b0cd-8408-41b7-e91a-e7653fbd3d53"
      },
      "outputs": [
        {
          "output_type": "display_data",
          "data": {
            "image/png": "[encoded data removed]",
            "text/plain": [
              "<Figure size 1440x360 with 1 Axes>"
            ]
          },
          "metadata": {
            "needs_background": "light"
          }
        },
        {
          "output_type": "display_data",
          "data": {
            "image/png": "[encoded data removed]",
            "text/plain": [
              "<Figure size 1440x360 with 1 Axes>"
            ]
          },
          "metadata": {
            "needs_background": "light"
          }
        }
      ],
      "source": [
        "figure(figsize=(20,5))\n",
        "data['client_train']['client_catg'].value_counts().plot(kind='barh')\n",
        "plt.xlabel('Count')\n",
        "plt.ylabel('Category')\n",
        "plt.title('The number of clients per category')\n",
        "plt.show()\n",
        "figure(figsize=(20,5))\n",
        "sns.histplot(data['client_train'], y='client_catg', hue='target', multiple='dodge')\n",
        "plt.show()"
      ]
    },
    {
      "cell_type": "markdown",
      "metadata": {
        "id": "jaJS-dYf0zJq"
      },
      "source": [
        "Furthermore, most of them are from gaterogy 11. This would maybe reveal that the category of the client will have a small effect on the predicted variable as it is most fo the time equal to 11."
      ]
    },
    {
      "cell_type": "code",
      "execution_count": 12,
      "metadata": {
        "colab": {
          "base_uri": "https://localhost:8080/",
          "height": 367
        },
        "id": "eg52qPOj0zJr",
        "outputId": "54d5e07f-ff14-443d-bcdf-9d54558cb88f"
      },
      "outputs": [
        {
          "output_type": "execute_result",
          "data": {
            "text/plain": [
              "Text(0.5, 1.0, 'The number of clients per district')"
            ]
          },
          "metadata": {},
          "execution_count": 12
        },
        {
          "output_type": "display_data",
          "data": {
            "image/png": "[encoded data removed]",
            "text/plain": [
              "<Figure size 1440x360 with 1 Axes>"
            ]
          },
          "metadata": {
            "needs_background": "light"
          }
        }
      ],
      "source": [
        "figure(figsize=(20,5))\n",
        "sns.histplot(data['client_train'], x='disrict', hue='target', multiple='dodge')\n",
        "\n",
        "plt.xlabel('Count')\n",
        "plt.ylabel('District')\n",
        "plt.title('The number of clients per district')"
      ]
    },
    {
      "cell_type": "markdown",
      "metadata": {
        "id": "vEz20NjK0zJt"
      },
      "source": [
        "It is intersting to see that the  districts have approximately the same number of clients. "
      ]
    },
    {
      "cell_type": "code",
      "execution_count": 13,
      "metadata": {
        "colab": {
          "base_uri": "https://localhost:8080/",
          "height": 487
        },
        "id": "015Y3h8J0zJs",
        "outputId": "cdee3b65-87be-4488-cb6f-e061ed2ed5a0"
      },
      "outputs": [
        {
          "output_type": "execute_result",
          "data": {
            "text/html": [
              "\n",
              "  <div id=\"df-a527a105-b240-4115-ac96-df3adf07223f\">\n",
              "    <div class=\"colab-df-container\">\n",
              "      <div>\n",
              "<style scoped>\n",
              "    .dataframe tbody tr th:only-of-type {\n",
              "        vertical-align: middle;\n",
              "    }\n",
              "\n",
              "    .dataframe tbody tr th {\n",
              "        vertical-align: top;\n",
              "    }\n",
              "\n",
              "    .dataframe thead th {\n",
              "        text-align: right;\n",
              "    }\n",
              "</style>\n",
              "<table border=\"1\" class=\"dataframe\">\n",
              "  <thead>\n",
              "    <tr style=\"text-align: right;\">\n",
              "      <th></th>\n",
              "      <th>client_id</th>\n",
              "      <th>invoice_date</th>\n",
              "      <th>tarif_type</th>\n",
              "      <th>counter_number</th>\n",
              "      <th>counter_statue</th>\n",
              "      <th>counter_code</th>\n",
              "      <th>reading_remarque</th>\n",
              "      <th>counter_coefficient</th>\n",
              "      <th>consommation_level_1</th>\n",
              "      <th>consommation_level_2</th>\n",
              "      <th>consommation_level_3</th>\n",
              "      <th>consommation_level_4</th>\n",
              "      <th>old_index</th>\n",
              "      <th>new_index</th>\n",
              "      <th>months_number</th>\n",
              "      <th>counter_type</th>\n",
              "    </tr>\n",
              "  </thead>\n",
              "  <tbody>\n",
              "    <tr>\n",
              "      <th>0</th>\n",
              "      <td>train_Client_0</td>\n",
              "      <td>2014-03-24</td>\n",
              "      <td>11</td>\n",
              "      <td>1335667</td>\n",
              "      <td>0</td>\n",
              "      <td>203</td>\n",
              "      <td>8</td>\n",
              "      <td>1</td>\n",
              "      <td>82</td>\n",
              "      <td>0</td>\n",
              "      <td>0</td>\n",
              "      <td>0</td>\n",
              "      <td>14302</td>\n",
              "      <td>14384</td>\n",
              "      <td>4</td>\n",
              "      <td>ELEC</td>\n",
              "    </tr>\n",
              "    <tr>\n",
              "      <th>1</th>\n",
              "      <td>train_Client_0</td>\n",
              "      <td>2013-03-29</td>\n",
              "      <td>11</td>\n",
              "      <td>1335667</td>\n",
              "      <td>0</td>\n",
              "      <td>203</td>\n",
              "      <td>6</td>\n",
              "      <td>1</td>\n",
              "      <td>1200</td>\n",
              "      <td>184</td>\n",
              "      <td>0</td>\n",
              "      <td>0</td>\n",
              "      <td>12294</td>\n",
              "      <td>13678</td>\n",
              "      <td>4</td>\n",
              "      <td>ELEC</td>\n",
              "    </tr>\n",
              "    <tr>\n",
              "      <th>2</th>\n",
              "      <td>train_Client_0</td>\n",
              "      <td>2015-03-23</td>\n",
              "      <td>11</td>\n",
              "      <td>1335667</td>\n",
              "      <td>0</td>\n",
              "      <td>203</td>\n",
              "      <td>8</td>\n",
              "      <td>1</td>\n",
              "      <td>123</td>\n",
              "      <td>0</td>\n",
              "      <td>0</td>\n",
              "      <td>0</td>\n",
              "      <td>14624</td>\n",
              "      <td>14747</td>\n",
              "      <td>4</td>\n",
              "      <td>ELEC</td>\n",
              "    </tr>\n",
              "    <tr>\n",
              "      <th>3</th>\n",
              "      <td>train_Client_0</td>\n",
              "      <td>2015-07-13</td>\n",
              "      <td>11</td>\n",
              "      <td>1335667</td>\n",
              "      <td>0</td>\n",
              "      <td>207</td>\n",
              "      <td>8</td>\n",
              "      <td>1</td>\n",
              "      <td>102</td>\n",
              "      <td>0</td>\n",
              "      <td>0</td>\n",
              "      <td>0</td>\n",
              "      <td>14747</td>\n",
              "      <td>14849</td>\n",
              "      <td>4</td>\n",
              "      <td>ELEC</td>\n",
              "    </tr>\n",
              "    <tr>\n",
              "      <th>4</th>\n",
              "      <td>train_Client_0</td>\n",
              "      <td>2016-11-17</td>\n",
              "      <td>11</td>\n",
              "      <td>1335667</td>\n",
              "      <td>0</td>\n",
              "      <td>207</td>\n",
              "      <td>9</td>\n",
              "      <td>1</td>\n",
              "      <td>572</td>\n",
              "      <td>0</td>\n",
              "      <td>0</td>\n",
              "      <td>0</td>\n",
              "      <td>15066</td>\n",
              "      <td>15638</td>\n",
              "      <td>12</td>\n",
              "      <td>ELEC</td>\n",
              "    </tr>\n",
              "    <tr>\n",
              "      <th>...</th>\n",
              "      <td>...</td>\n",
              "      <td>...</td>\n",
              "      <td>...</td>\n",
              "      <td>...</td>\n",
              "      <td>...</td>\n",
              "      <td>...</td>\n",
              "      <td>...</td>\n",
              "      <td>...</td>\n",
              "      <td>...</td>\n",
              "      <td>...</td>\n",
              "      <td>...</td>\n",
              "      <td>...</td>\n",
              "      <td>...</td>\n",
              "      <td>...</td>\n",
              "      <td>...</td>\n",
              "      <td>...</td>\n",
              "    </tr>\n",
              "    <tr>\n",
              "      <th>4476744</th>\n",
              "      <td>train_Client_99998</td>\n",
              "      <td>2005-08-19</td>\n",
              "      <td>10</td>\n",
              "      <td>1253571</td>\n",
              "      <td>0</td>\n",
              "      <td>202</td>\n",
              "      <td>9</td>\n",
              "      <td>1</td>\n",
              "      <td>400</td>\n",
              "      <td>135</td>\n",
              "      <td>0</td>\n",
              "      <td>0</td>\n",
              "      <td>3197</td>\n",
              "      <td>3732</td>\n",
              "      <td>8</td>\n",
              "      <td>ELEC</td>\n",
              "    </tr>\n",
              "    <tr>\n",
              "      <th>4476745</th>\n",
              "      <td>train_Client_99998</td>\n",
              "      <td>2005-12-19</td>\n",
              "      <td>10</td>\n",
              "      <td>1253571</td>\n",
              "      <td>0</td>\n",
              "      <td>202</td>\n",
              "      <td>6</td>\n",
              "      <td>1</td>\n",
              "      <td>200</td>\n",
              "      <td>6</td>\n",
              "      <td>0</td>\n",
              "      <td>0</td>\n",
              "      <td>3732</td>\n",
              "      <td>3938</td>\n",
              "      <td>4</td>\n",
              "      <td>ELEC</td>\n",
              "    </tr>\n",
              "    <tr>\n",
              "      <th>4476746</th>\n",
              "      <td>train_Client_99999</td>\n",
              "      <td>1996-09-25</td>\n",
              "      <td>11</td>\n",
              "      <td>560948</td>\n",
              "      <td>0</td>\n",
              "      <td>203</td>\n",
              "      <td>6</td>\n",
              "      <td>1</td>\n",
              "      <td>259</td>\n",
              "      <td>0</td>\n",
              "      <td>0</td>\n",
              "      <td>0</td>\n",
              "      <td>13884</td>\n",
              "      <td>14143</td>\n",
              "      <td>4</td>\n",
              "      <td>ELEC</td>\n",
              "    </tr>\n",
              "    <tr>\n",
              "      <th>4476747</th>\n",
              "      <td>train_Client_99999</td>\n",
              "      <td>1996-05-28</td>\n",
              "      <td>11</td>\n",
              "      <td>560948</td>\n",
              "      <td>0</td>\n",
              "      <td>203</td>\n",
              "      <td>6</td>\n",
              "      <td>1</td>\n",
              "      <td>603</td>\n",
              "      <td>0</td>\n",
              "      <td>0</td>\n",
              "      <td>0</td>\n",
              "      <td>13281</td>\n",
              "      <td>13884</td>\n",
              "      <td>4</td>\n",
              "      <td>ELEC</td>\n",
              "    </tr>\n",
              "    <tr>\n",
              "      <th>4476748</th>\n",
              "      <td>train_Client_99999</td>\n",
              "      <td>1996-01-25</td>\n",
              "      <td>11</td>\n",
              "      <td>560948</td>\n",
              "      <td>0</td>\n",
              "      <td>203</td>\n",
              "      <td>6</td>\n",
              "      <td>1</td>\n",
              "      <td>516</td>\n",
              "      <td>0</td>\n",
              "      <td>0</td>\n",
              "      <td>0</td>\n",
              "      <td>12765</td>\n",
              "      <td>13281</td>\n",
              "      <td>4</td>\n",
              "      <td>ELEC</td>\n",
              "    </tr>\n",
              "  </tbody>\n",
              "</table>\n",
              "<p>4476749 rows × 16 columns</p>\n",
              "</div>\n",
              "      <button class=\"colab-df-convert\" onclick=\"convertToInteractive('df-a527a105-b240-4115-ac96-df3adf07223f')\"\n",
              "              title=\"Convert this dataframe to an interactive table.\"\n",
              "              style=\"display:none;\">\n",
              "        \n",
              "  <svg xmlns=\"http://www.w3.org/2000/svg\" height=\"24px\"viewBox=\"0 0 24 24\"\n",
              "       width=\"24px\">\n",
              "    <path d=\"M0 0h24v24H0V0z\" fill=\"none\"/>\n",
              "    <path d=\"M18.56 5.44l.94 2.06.94-2.06 2.06-.94-2.06-.94-.94-2.06-.94 2.06-2.06.94zm-11 1L8.5 8.5l.94-2.06 2.06-.94-2.06-.94L8.5 2.5l-.94 2.06-2.06.94zm10 10l.94 2.06.94-2.06 2.06-.94-2.06-.94-.94-2.06-.94 2.06-2.06.94z\"/><path d=\"M17.41 7.96l-1.37-1.37c-.4-.4-.92-.59-1.43-.59-.52 0-1.04.2-1.43.59L10.3 9.45l-7.72 7.72c-.78.78-.78 2.05 0 2.83L4 21.41c.39.39.9.59 1.41.59.51 0 1.02-.2 1.41-.59l7.78-7.78 2.81-2.81c.8-.78.8-2.07 0-2.86zM5.41 20L4 18.59l7.72-7.72 1.47 1.35L5.41 20z\"/>\n",
              "  </svg>\n",
              "      </button>\n",
              "      \n",
              "  <style>\n",
              "    .colab-df-container {\n",
              "      display:flex;\n",
              "      flex-wrap:wrap;\n",
              "      gap: 12px;\n",
              "    }\n",
              "\n",
              "    .colab-df-convert {\n",
              "      background-color: #E8F0FE;\n",
              "      border: none;\n",
              "      border-radius: 50%;\n",
              "      cursor: pointer;\n",
              "      display: none;\n",
              "      fill: #1967D2;\n",
              "      height: 32px;\n",
              "      padding: 0 0 0 0;\n",
              "      width: 32px;\n",
              "    }\n",
              "\n",
              "    .colab-df-convert:hover {\n",
              "      background-color: #E2EBFA;\n",
              "      box-shadow: 0px 1px 2px rgba(60, 64, 67, 0.3), 0px 1px 3px 1px rgba(60, 64, 67, 0.15);\n",
              "      fill: #174EA6;\n",
              "    }\n",
              "\n",
              "    [theme=dark] .colab-df-convert {\n",
              "      background-color: #3B4455;\n",
              "      fill: #D2E3FC;\n",
              "    }\n",
              "\n",
              "    [theme=dark] .colab-df-convert:hover {\n",
              "      background-color: #434B5C;\n",
              "      box-shadow: 0px 1px 3px 1px rgba(0, 0, 0, 0.15);\n",
              "      filter: drop-shadow(0px 1px 2px rgba(0, 0, 0, 0.3));\n",
              "      fill: #FFFFFF;\n",
              "    }\n",
              "  </style>\n",
              "\n",
              "      <script>\n",
              "        const buttonEl =\n",
              "          document.querySelector('#df-a527a105-b240-4115-ac96-df3adf07223f button.colab-df-convert');\n",
              "        buttonEl.style.display =\n",
              "          google.colab.kernel.accessAllowed ? 'block' : 'none';\n",
              "\n",
              "        async function convertToInteractive(key) {\n",
              "          const element = document.querySelector('#df-a527a105-b240-4115-ac96-df3adf07223f');\n",
              "          const dataTable =\n",
              "            await google.colab.kernel.invokeFunction('convertToInteractive',\n",
              "                                                     [key], {});\n",
              "          if (!dataTable) return;\n",
              "\n",
              "          const docLinkHtml = 'Like what you see? Visit the ' +\n",
              "            '<a target=\"_blank\" href=https://colab.research.google.com/notebooks/data_table.ipynb>data table notebook</a>'\n",
              "            + ' to learn more about interactive tables.';\n",
              "          element.innerHTML = '';\n",
              "          dataTable['output_type'] = 'display_data';\n",
              "          await google.colab.output.renderOutput(dataTable, element);\n",
              "          const docLink = document.createElement('div');\n",
              "          docLink.innerHTML = docLinkHtml;\n",
              "          element.appendChild(docLink);\n",
              "        }\n",
              "      </script>\n",
              "    </div>\n",
              "  </div>\n",
              "  "
            ],
            "text/plain": [
              "                  client_id invoice_date  ...  months_number  counter_type\n",
              "0            train_Client_0   2014-03-24  ...              4          ELEC\n",
              "1            train_Client_0   2013-03-29  ...              4          ELEC\n",
              "2            train_Client_0   2015-03-23  ...              4          ELEC\n",
              "3            train_Client_0   2015-07-13  ...              4          ELEC\n",
              "4            train_Client_0   2016-11-17  ...             12          ELEC\n",
              "...                     ...          ...  ...            ...           ...\n",
              "4476744  train_Client_99998   2005-08-19  ...              8          ELEC\n",
              "4476745  train_Client_99998   2005-12-19  ...              4          ELEC\n",
              "4476746  train_Client_99999   1996-09-25  ...              4          ELEC\n",
              "4476747  train_Client_99999   1996-05-28  ...              4          ELEC\n",
              "4476748  train_Client_99999   1996-01-25  ...              4          ELEC\n",
              "\n",
              "[4476749 rows x 16 columns]"
            ]
          },
          "metadata": {},
          "execution_count": 13
        }
      ],
      "source": [
        "data['invoice_train']"
      ]
    },
    {
      "cell_type": "code",
      "source": [
        "# check the distribution of the target variable\n",
        "data['client_train']['target'].value_counts()"
      ],
      "metadata": {
        "colab": {
          "base_uri": "https://localhost:8080/"
        },
        "id": "A1tIKDMk-CIV",
        "outputId": "e37f209a-26db-49fa-deec-e25112bdff0f"
      },
      "execution_count": 14,
      "outputs": [
        {
          "output_type": "execute_result",
          "data": {
            "text/plain": [
              "0.0    127927\n",
              "1.0      7566\n",
              "Name: target, dtype: int64"
            ]
          },
          "metadata": {},
          "execution_count": 14
        }
      ]
    },
    {
      "cell_type": "code",
      "execution_count": 15,
      "metadata": {
        "colab": {
          "base_uri": "https://localhost:8080/"
        },
        "id": "Mdn2V2-E0zJu",
        "outputId": "505252e9-34ba-45ee-8998-39f4a8e22333"
      },
      "outputs": [
        {
          "output_type": "stream",
          "name": "stdout",
          "text": [
            "The pourcentage of fraudulent client in the dataset is :5.58%\n"
          ]
        }
      ],
      "source": [
        "print(\"The pourcentage of fraudulent client in the dataset is :{:.2f}%\".format(100*data['client_train']['target'].sum() / data['client_train'].shape[0]))"
      ]
    },
    {
      "cell_type": "markdown",
      "metadata": {
        "id": "Pa2XBa2p0zJv"
      },
      "source": [
        "##Data cleaning and merging"
      ]
    },
    {
      "cell_type": "code",
      "execution_count": 16,
      "metadata": {
        "id": "42IdDHwe0zJv"
      },
      "outputs": [],
      "source": [
        "def clean_train_data(client_df, invoice_df):\n",
        "    \"\"\"\n",
        "    A function that performs data cleaning for the client and invoice dataset\n",
        "    \n",
        "    :param client_df:\n",
        "    :param invoice_df:\n",
        "    :return:\n",
        "    \"\"\"\n",
        "\n",
        "    #extract only useful column for training\n",
        "    df = invoice_df[['client_id',  'consommation_level_1', 'consommation_level_2',\n",
        "                   'consommation_level_3','consommation_level_4','reading_remarque',\n",
        "                     'counter_type']].groupby('client_id').mean()\n",
        "    invoice_df['consumption_per_month'] = invoice_df[[ \n",
        "                     'consommation_level_1', \n",
        "                     'consommation_level_2',\n",
        "                   'consommation_level_3', \n",
        "                     'consommation_level_4']].sum(axis=1)\n",
        "    \n",
        "    invoice_df['consumption_per_month'] = invoice_df['consumption_per_month'] / invoice_df['months_number'] \n",
        "   \n",
        "    df['consumption_per_month'] = invoice_df.groupby('client_id').mean()['consumption_per_month']\n",
        "    df = df.drop(columns=['consommation_level_1', 'consommation_level_2','consommation_level_3', 'consommation_level_4'])\n",
        "\n",
        "    client_df = client_df.drop(columns=['creation_date'])\n",
        "\n",
        "    return df.merge(client_df,  on='client_id')"
      ]
    },
    {
      "cell_type": "code",
      "source": [
        "# using the implemented function for clean the training data\n",
        "train_data = clean_train_data(data['client_train'], data['invoice_train'])\n",
        "train_data.info()\n",
        "train_data.head()"
      ],
      "metadata": {
        "colab": {
          "base_uri": "https://localhost:8080/",
          "height": 448
        },
        "id": "4U60MLD18s5X",
        "outputId": "0718c4b1-4968-4bdd-8be3-c190a15a5b47"
      },
      "execution_count": 17,
      "outputs": [
        {
          "output_type": "stream",
          "name": "stdout",
          "text": [
            "<class 'pandas.core.frame.DataFrame'>\n",
            "Int64Index: 135493 entries, 0 to 135492\n",
            "Data columns (total 7 columns):\n",
            " #   Column                 Non-Null Count   Dtype  \n",
            "---  ------                 --------------   -----  \n",
            " 0   client_id              135493 non-null  object \n",
            " 1   reading_remarque       135493 non-null  float64\n",
            " 2   consumption_per_month  135493 non-null  float64\n",
            " 3   disrict                135493 non-null  int64  \n",
            " 4   client_catg            135493 non-null  int64  \n",
            " 5   region                 135493 non-null  int64  \n",
            " 6   target                 135493 non-null  float64\n",
            "dtypes: float64(3), int64(3), object(1)\n",
            "memory usage: 8.3+ MB\n"
          ]
        },
        {
          "output_type": "execute_result",
          "data": {
            "text/html": [
              "\n",
              "  <div id=\"df-86344407-2762-4ec8-9681-b93bd574f7cf\">\n",
              "    <div class=\"colab-df-container\">\n",
              "      <div>\n",
              "<style scoped>\n",
              "    .dataframe tbody tr th:only-of-type {\n",
              "        vertical-align: middle;\n",
              "    }\n",
              "\n",
              "    .dataframe tbody tr th {\n",
              "        vertical-align: top;\n",
              "    }\n",
              "\n",
              "    .dataframe thead th {\n",
              "        text-align: right;\n",
              "    }\n",
              "</style>\n",
              "<table border=\"1\" class=\"dataframe\">\n",
              "  <thead>\n",
              "    <tr style=\"text-align: right;\">\n",
              "      <th></th>\n",
              "      <th>client_id</th>\n",
              "      <th>reading_remarque</th>\n",
              "      <th>consumption_per_month</th>\n",
              "      <th>disrict</th>\n",
              "      <th>client_catg</th>\n",
              "      <th>region</th>\n",
              "      <th>target</th>\n",
              "    </tr>\n",
              "  </thead>\n",
              "  <tbody>\n",
              "    <tr>\n",
              "      <th>0</th>\n",
              "      <td>train_Client_0</td>\n",
              "      <td>7.0</td>\n",
              "      <td>82.5</td>\n",
              "      <td>60</td>\n",
              "      <td>11</td>\n",
              "      <td>101</td>\n",
              "      <td>0.0</td>\n",
              "    </tr>\n",
              "    <tr>\n",
              "      <th>1</th>\n",
              "      <td>train_Client_1</td>\n",
              "      <td>7.2</td>\n",
              "      <td>129.4</td>\n",
              "      <td>69</td>\n",
              "      <td>11</td>\n",
              "      <td>107</td>\n",
              "      <td>0.0</td>\n",
              "    </tr>\n",
              "    <tr>\n",
              "      <th>2</th>\n",
              "      <td>train_Client_10</td>\n",
              "      <td>7.1</td>\n",
              "      <td>127.0</td>\n",
              "      <td>62</td>\n",
              "      <td>11</td>\n",
              "      <td>301</td>\n",
              "      <td>0.0</td>\n",
              "    </tr>\n",
              "    <tr>\n",
              "      <th>3</th>\n",
              "      <td>train_Client_100</td>\n",
              "      <td>6.2</td>\n",
              "      <td>0.3</td>\n",
              "      <td>69</td>\n",
              "      <td>11</td>\n",
              "      <td>105</td>\n",
              "      <td>0.0</td>\n",
              "    </tr>\n",
              "    <tr>\n",
              "      <th>4</th>\n",
              "      <td>train_Client_1000</td>\n",
              "      <td>8.9</td>\n",
              "      <td>237.9</td>\n",
              "      <td>62</td>\n",
              "      <td>11</td>\n",
              "      <td>303</td>\n",
              "      <td>0.0</td>\n",
              "    </tr>\n",
              "  </tbody>\n",
              "</table>\n",
              "</div>\n",
              "      <button class=\"colab-df-convert\" onclick=\"convertToInteractive('df-86344407-2762-4ec8-9681-b93bd574f7cf')\"\n",
              "              title=\"Convert this dataframe to an interactive table.\"\n",
              "              style=\"display:none;\">\n",
              "        \n",
              "  <svg xmlns=\"http://www.w3.org/2000/svg\" height=\"24px\"viewBox=\"0 0 24 24\"\n",
              "       width=\"24px\">\n",
              "    <path d=\"M0 0h24v24H0V0z\" fill=\"none\"/>\n",
              "    <path d=\"M18.56 5.44l.94 2.06.94-2.06 2.06-.94-2.06-.94-.94-2.06-.94 2.06-2.06.94zm-11 1L8.5 8.5l.94-2.06 2.06-.94-2.06-.94L8.5 2.5l-.94 2.06-2.06.94zm10 10l.94 2.06.94-2.06 2.06-.94-2.06-.94-.94-2.06-.94 2.06-2.06.94z\"/><path d=\"M17.41 7.96l-1.37-1.37c-.4-.4-.92-.59-1.43-.59-.52 0-1.04.2-1.43.59L10.3 9.45l-7.72 7.72c-.78.78-.78 2.05 0 2.83L4 21.41c.39.39.9.59 1.41.59.51 0 1.02-.2 1.41-.59l7.78-7.78 2.81-2.81c.8-.78.8-2.07 0-2.86zM5.41 20L4 18.59l7.72-7.72 1.47 1.35L5.41 20z\"/>\n",
              "  </svg>\n",
              "      </button>\n",
              "      \n",
              "  <style>\n",
              "    .colab-df-container {\n",
              "      display:flex;\n",
              "      flex-wrap:wrap;\n",
              "      gap: 12px;\n",
              "    }\n",
              "\n",
              "    .colab-df-convert {\n",
              "      background-color: #E8F0FE;\n",
              "      border: none;\n",
              "      border-radius: 50%;\n",
              "      cursor: pointer;\n",
              "      display: none;\n",
              "      fill: #1967D2;\n",
              "      height: 32px;\n",
              "      padding: 0 0 0 0;\n",
              "      width: 32px;\n",
              "    }\n",
              "\n",
              "    .colab-df-convert:hover {\n",
              "      background-color: #E2EBFA;\n",
              "      box-shadow: 0px 1px 2px rgba(60, 64, 67, 0.3), 0px 1px 3px 1px rgba(60, 64, 67, 0.15);\n",
              "      fill: #174EA6;\n",
              "    }\n",
              "\n",
              "    [theme=dark] .colab-df-convert {\n",
              "      background-color: #3B4455;\n",
              "      fill: #D2E3FC;\n",
              "    }\n",
              "\n",
              "    [theme=dark] .colab-df-convert:hover {\n",
              "      background-color: #434B5C;\n",
              "      box-shadow: 0px 1px 3px 1px rgba(0, 0, 0, 0.15);\n",
              "      filter: drop-shadow(0px 1px 2px rgba(0, 0, 0, 0.3));\n",
              "      fill: #FFFFFF;\n",
              "    }\n",
              "  </style>\n",
              "\n",
              "      <script>\n",
              "        const buttonEl =\n",
              "          document.querySelector('#df-86344407-2762-4ec8-9681-b93bd574f7cf button.colab-df-convert');\n",
              "        buttonEl.style.display =\n",
              "          google.colab.kernel.accessAllowed ? 'block' : 'none';\n",
              "\n",
              "        async function convertToInteractive(key) {\n",
              "          const element = document.querySelector('#df-86344407-2762-4ec8-9681-b93bd574f7cf');\n",
              "          const dataTable =\n",
              "            await google.colab.kernel.invokeFunction('convertToInteractive',\n",
              "                                                     [key], {});\n",
              "          if (!dataTable) return;\n",
              "\n",
              "          const docLinkHtml = 'Like what you see? Visit the ' +\n",
              "            '<a target=\"_blank\" href=https://colab.research.google.com/notebooks/data_table.ipynb>data table notebook</a>'\n",
              "            + ' to learn more about interactive tables.';\n",
              "          element.innerHTML = '';\n",
              "          dataTable['output_type'] = 'display_data';\n",
              "          await google.colab.output.renderOutput(dataTable, element);\n",
              "          const docLink = document.createElement('div');\n",
              "          docLink.innerHTML = docLinkHtml;\n",
              "          element.appendChild(docLink);\n",
              "        }\n",
              "      </script>\n",
              "    </div>\n",
              "  </div>\n",
              "  "
            ],
            "text/plain": [
              "           client_id  reading_remarque  ...  region  target\n",
              "0     train_Client_0               7.0  ...     101     0.0\n",
              "1     train_Client_1               7.2  ...     107     0.0\n",
              "2    train_Client_10               7.1  ...     301     0.0\n",
              "3   train_Client_100               6.2  ...     105     0.0\n",
              "4  train_Client_1000               8.9  ...     303     0.0\n",
              "\n",
              "[5 rows x 7 columns]"
            ]
          },
          "metadata": {},
          "execution_count": 17
        }
      ]
    },
    {
      "cell_type": "code",
      "execution_count": 18,
      "metadata": {
        "colab": {
          "base_uri": "https://localhost:8080/",
          "height": 613
        },
        "id": "MqO9hQE30zJx",
        "outputId": "fa105d53-a11e-4307-ce10-0617b534a8d9"
      },
      "outputs": [
        {
          "output_type": "execute_result",
          "data": {
            "text/plain": [
              "<matplotlib.axes._subplots.AxesSubplot at 0x7fe5f33b9a50>"
            ]
          },
          "metadata": {},
          "execution_count": 18
        },
        {
          "output_type": "display_data",
          "data": {
            "image/png": "[encoded data removed]",
            "text/plain": [
              "<Figure size 1440x720 with 2 Axes>"
            ]
          },
          "metadata": {
            "needs_background": "light"
          }
        }
      ],
      "source": [
        "figure(figsize=(20,10))\n",
        "sns.heatmap(train_data.corr().abs(), annot=True)"
      ]
    },
    {
      "cell_type": "code",
      "execution_count": 21,
      "metadata": {
        "id": "nHmZftkc0zJy"
      },
      "outputs": [],
      "source": [
        "# split the dataset into the training set and test set\n",
        "X_train = train_data.drop(['client_id','target'], axis=1)\n",
        "y_train = train_data['target']\n",
        "\n",
        "# ignore warnings\n",
        "import warnings\n",
        "warnings.filterwarnings(\"ignore\")"
      ]
    },
    {
      "cell_type": "code",
      "execution_count": null,
      "metadata": {
        "id": "6qZzGF-V0zJz"
      },
      "outputs": [],
      "source": [
        "import lightgbm\n",
        "from lightgbm import LGBMClassifier\n",
        "\n",
        "# build the lightgbm model\n",
        "model = LGBMClassifier(boosting_type='gbdt',num_iteration=100000)\n",
        "\n",
        "#Fit to training data\n",
        "%time model.fit(X_train,y_train)"
      ]
    },
    {
      "cell_type": "code",
      "execution_count": null,
      "metadata": {
        "id": "pvLqK7sR0zJz"
      },
      "outputs": [],
      "source": [
        "test_data = clean_train_data(data['client_test'], data['invoice_test'])\n",
        "X_test = test_data.drop(['client_id'], axis=1)"
      ]
    },
    {
      "cell_type": "code",
      "source": [
        "y_pred = model.predict(X_test)\n",
        "y_pred.mean()"
      ],
      "metadata": {
        "id": "eHi8AkSyI70J"
      },
      "execution_count": null,
      "outputs": []
    }
  ],
  "metadata": {
    "colab": {
      "collapsed_sections": [],
      "name": "ML academy Project_1.ipynb",
      "provenance": []
    },
    "kernelspec": {
      "display_name": "Python 3 (ipykernel)",
      "language": "python",
      "name": "python3"
    },
    "language_info": {
      "codemirror_mode": {
        "name": "ipython",
        "version": 3
      },
      "file_extension": ".py",
      "mimetype": "text/x-python",
      "name": "python",
      "nbconvert_exporter": "python",
      "pygments_lexer": "ipython3",
      "version": "3.8.12"
    }
  },
  "nbformat": 4,
  "nbformat_minor": 0
}