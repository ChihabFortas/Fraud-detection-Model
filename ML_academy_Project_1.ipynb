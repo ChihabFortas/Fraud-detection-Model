{
  "cells": [
    {
      "cell_type": "markdown",
      "metadata": {
        "id": "view-in-github",
        "colab_type": "text"
      },
      "source": [
        "<a href=\"https://colab.research.google.com/github/ChihabFortas/Fraud-detection-Model/blob/dev_1/ML_academy_Project_1.ipynb\" target=\"_parent\"><img src=\"https://colab.research.google.com/assets/colab-badge.svg\" alt=\"Open In Colab\"/></a>"
      ]
    },
    {
      "cell_type": "markdown",
      "metadata": {
        "id": "fj-J5trrMTSP"
      },
      "source": [
        "#**Fraud Detection using regression model**\n",
        "\n",
        "### **Project overview**\n",
        "The Tunisian company of electricity and gaz (STEG) is a non-administrative company, it is responsible for delivering electricity and gaz across Tunisia.\n",
        "The company sufferred tremendous losses in order of 200 million tunisian dinars due to fraudelant manipulations of meters by consumers.\n",
        "\n",
        "in this project we will be using data gathered by the company (Clients billing/consumption history) to detect and recognize clients involved in fraudelent activities. "
      ]
    },
    {
      "cell_type": "markdown",
      "metadata": {
        "id": "VVH4-IPgOOlv"
      },
      "source": [
        "###**Project structure** \n",
        "before start writing any code, first we need to understand the problem in details and set a some milestones to achieve in this project.\n",
        "- Preparing the workspace\n",
        "  - importing libraries\n",
        "  - downloading and imporing the data and converting it into a readable dataset\n",
        "- Exploratory Data Analysis\n",
        "  - Understanding the data \n",
        "  - Data preparation and cleaning\n",
        "  - feature engineering and picking neccesary features to build the model\n",
        "- Model creation\n",
        "  - Decide which type of Model fit to solve the problem in hand\n",
        "  - Create the model based on input and output shape and the depth of model network\n",
        "  - Create the model hyperparamater\n",
        "  - create the training job \n",
        "\n",
        "- Visualizing and tuning\n",
        "  - continue visualizing and tuning the hyperparamaters until we reach a optimized state\n",
        "  - Model validation and testing\n",
        "\n",
        "- Submission\n",
        "  - extract the prediction to a csv file"
      ]
    },
    {
      "cell_type": "markdown",
      "source": [
        "###**Preparing the workspace**"
      ],
      "metadata": {
        "id": "GkqhpWOHViQN"
      }
    },
    {
      "cell_type": "code",
      "execution_count": null,
      "metadata": {
        "id": "okxfLiHCRhS6"
      },
      "outputs": [],
      "source": [
        "# For Python 2 / 3 compatability\n",
        "from __future__ import print_function"
      ]
    },
    {
      "cell_type": "code",
      "execution_count": null,
      "metadata": {
        "colab": {
          "base_uri": "https://localhost:8080/"
        },
        "id": "Dz14LGv-Lpa8",
        "outputId": "25ad2afe-8536-46ff-def3-bbe48f849f8d"
      },
      "outputs": [
        {
          "output_type": "stream",
          "name": "stdout",
          "text": [
            "Imported modules.\n"
          ]
        }
      ],
      "source": [
        "import numpy as np\n",
        "import pandas as pd\n",
        "import tensorflow as tf\n",
        "import seaborn as sns\n",
        "\n",
        "from datetime import datetime\n",
        "from tensorflow.keras import layers\n",
        "from matplotlib import pyplot as plt\n",
        "from matplotlib.pyplot import figure\n",
        "from sklearn import preprocessing\n",
        "from sklearn.metrics import roc_auc_score\n",
        "from sklearn.model_selection import StratifiedKFold\n",
        "from lightgbm import LGBMClassifier\n",
        "\n",
        "# The following lines adjust the granularity of reporting. \n",
        "pd.options.display.max_rows = 10\n",
        "pd.options.display.float_format = \"{:.1f}\".format\n",
        "\n",
        "seed=47\n",
        "\n",
        "print(\"Imported modules.\")"
      ]
    },
    {
      "cell_type": "markdown",
      "metadata": {
        "id": "6CzM0T4mRvAK"
      },
      "source": [
        "###**Load the dataset**\n",
        "we will be using the dataset provided to us by the ML academy via google drive. The following code cell download the data from google drive, loads it and then creates the following two pandas DataFrames:\n",
        "\n",
        "*   invoice_train: which contains invoices data for the training\n",
        "*   client_train : which contains clients data for the training\n",
        "*   invoice_test : which contains invoices data for the testing\n",
        "*   cleint_test  : which contains clients data for the testing"
      ]
    },
    {
      "cell_type": "code",
      "execution_count": null,
      "metadata": {
        "colab": {
          "base_uri": "https://localhost:8080/"
        },
        "id": "d5YgEn1_iE4c",
        "outputId": "ae955ce5-da8c-4b33-cb88-213966e85ec7"
      },
      "outputs": [
        {
          "output_type": "stream",
          "name": "stdout",
          "text": [
            "Downloading...\n",
            "From: https://drive.google.com/uc?id=1DxxZ166bZ8MocyM210DODckm926xm4HJ\n",
            "To: /content/train.zip\n",
            "100% 64.2M/64.2M [00:00<00:00, 196MB/s]\n",
            "Downloading...\n",
            "From: https://drive.google.com/uc?id=1Unhg1OagxzEmaiCvgqLbRumIoDjx4AcV\n",
            "To: /content/test.zip\n",
            "100% 27.7M/27.7M [00:00<00:00, 246MB/s]\n",
            "Downloading...\n",
            "From: https://drive.google.com/uc?id=1tDq9b20lOEMB30VcHclBMaqF_4Ey96Q5\n",
            "To: /content/SampleSubmission.csv\n",
            "100% 2.15M/2.15M [00:00<00:00, 145MB/s]\n"
          ]
        }
      ],
      "source": [
        "#Downloading the train.zip file from the provided link https://drive.google.com/file/d/1DxxZ166bZ8MocyM210DODckm926xm4HJ/view?usp=sharing\n",
        "!gdown --id '1DxxZ166bZ8MocyM210DODckm926xm4HJ'\n",
        "#Downloading the test.zip file from the provided link https://drive.google.com/file/d/1Unhg1OagxzEmaiCvgqLbRumIoDjx4AcV/view?usp=sharing\n",
        "!gdown --id '1Unhg1OagxzEmaiCvgqLbRumIoDjx4AcV'\n",
        "#Downloading the submission csv file from the provided link https://drive.google.com/file/d/1tDq9b20lOEMB30VcHclBMaqF_4Ey96Q5/view?usp=sharing\n",
        "!gdown --id '1tDq9b20lOEMB30VcHclBMaqF_4Ey96Q5'\n",
        "\n",
        "from zipfile import ZipFile\n",
        "files = ['train.zip', 'test.zip']\n",
        "export_path = \"dataset/\"\n",
        "for f in files:\n",
        "  zf = ZipFile(f, 'r')\n",
        "  zf.extractall(export_path)\n",
        "  zf.close()"
      ]
    },
    {
      "cell_type": "code",
      "execution_count": null,
      "metadata": {
        "id": "xt0VK1cU0zJg",
        "colab": {
          "base_uri": "https://localhost:8080/"
        },
        "outputId": "3b20bebf-e67e-4356-fd3b-1e9e17f9140a"
      },
      "outputs": [
        {
          "output_type": "stream",
          "name": "stderr",
          "text": [
            "/usr/local/lib/python3.7/dist-packages/IPython/core/interactiveshell.py:2718: DtypeWarning: Columns (4) have mixed types.Specify dtype option on import or set low_memory=False.\n",
            "  interactivity=interactivity, compiler=compiler, result=result)\n"
          ]
        }
      ],
      "source": [
        "client_test = pd.read_csv('dataset/client_test.csv')\n",
        "invoice_test = pd.read_csv('dataset/invoice_test.csv')\n",
        "client_train = pd.read_csv('dataset/client_train.csv')\n",
        "invoice_train = pd.read_csv('dataset/invoice_train.csv')\n",
        "sample_submission = pd.read_csv('SampleSubmission.csv',low_memory=False)"
      ]
    },
    {
      "cell_type": "markdown",
      "metadata": {
        "id": "vbG8b6vV0zJf"
      },
      "source": [
        "###**Exploratory Data Analysis**"
      ]
    },
    {
      "cell_type": "markdown",
      "source": [
        "First we check the dataframes for length and columns and types "
      ],
      "metadata": {
        "id": "9TtC5O2fWf_B"
      }
    },
    {
      "cell_type": "code",
      "execution_count": null,
      "metadata": {
        "colab": {
          "base_uri": "https://localhost:8080/",
          "height": 658
        },
        "id": "9RpPsc_A0zJi",
        "outputId": "6cbc9611-3f41-4c2d-ab1a-47757eebe7f3"
      },
      "outputs": [
        {
          "output_type": "stream",
          "name": "stdout",
          "text": [
            "<class 'pandas.core.frame.DataFrame'>\n",
            "RangeIndex: 135493 entries, 0 to 135492\n",
            "Data columns (total 6 columns):\n",
            " #   Column         Non-Null Count   Dtype  \n",
            "---  ------         --------------   -----  \n",
            " 0   disrict        135493 non-null  int64  \n",
            " 1   client_id      135493 non-null  object \n",
            " 2   client_catg    135493 non-null  int64  \n",
            " 3   region         135493 non-null  int64  \n",
            " 4   creation_date  135493 non-null  object \n",
            " 5   target         135493 non-null  float64\n",
            "dtypes: float64(1), int64(3), object(2)\n",
            "memory usage: 6.2+ MB\n",
            "None\n",
            "\n",
            "        disrict  client_catg   region   target\n",
            "count 135493.0     135493.0 135493.0 135493.0\n",
            "mean      63.5         11.5    206.2      0.1\n",
            "std        3.4          4.4    104.2      0.2\n",
            "min       60.0         11.0    101.0      0.0\n",
            "25%       62.0         11.0    103.0      0.0\n",
            "50%       62.0         11.0    107.0      0.0\n",
            "75%       69.0         11.0    307.0      0.0\n",
            "max       69.0         51.0    399.0      1.0\n",
            "\n",
            "number of entries (135493, 6)\n"
          ]
        },
        {
          "output_type": "execute_result",
          "data": {
            "text/html": [
              "\n",
              "  <div id=\"df-33945c1b-86eb-4946-a8d8-014c689c268d\">\n",
              "    <div class=\"colab-df-container\">\n",
              "      <div>\n",
              "<style scoped>\n",
              "    .dataframe tbody tr th:only-of-type {\n",
              "        vertical-align: middle;\n",
              "    }\n",
              "\n",
              "    .dataframe tbody tr th {\n",
              "        vertical-align: top;\n",
              "    }\n",
              "\n",
              "    .dataframe thead th {\n",
              "        text-align: right;\n",
              "    }\n",
              "</style>\n",
              "<table border=\"1\" class=\"dataframe\">\n",
              "  <thead>\n",
              "    <tr style=\"text-align: right;\">\n",
              "      <th></th>\n",
              "      <th>disrict</th>\n",
              "      <th>client_id</th>\n",
              "      <th>client_catg</th>\n",
              "      <th>region</th>\n",
              "      <th>creation_date</th>\n",
              "      <th>target</th>\n",
              "    </tr>\n",
              "  </thead>\n",
              "  <tbody>\n",
              "    <tr>\n",
              "      <th>0</th>\n",
              "      <td>60</td>\n",
              "      <td>train_Client_0</td>\n",
              "      <td>11</td>\n",
              "      <td>101</td>\n",
              "      <td>31/12/1994</td>\n",
              "      <td>0.0</td>\n",
              "    </tr>\n",
              "    <tr>\n",
              "      <th>1</th>\n",
              "      <td>69</td>\n",
              "      <td>train_Client_1</td>\n",
              "      <td>11</td>\n",
              "      <td>107</td>\n",
              "      <td>29/05/2002</td>\n",
              "      <td>0.0</td>\n",
              "    </tr>\n",
              "    <tr>\n",
              "      <th>2</th>\n",
              "      <td>62</td>\n",
              "      <td>train_Client_10</td>\n",
              "      <td>11</td>\n",
              "      <td>301</td>\n",
              "      <td>13/03/1986</td>\n",
              "      <td>0.0</td>\n",
              "    </tr>\n",
              "    <tr>\n",
              "      <th>3</th>\n",
              "      <td>69</td>\n",
              "      <td>train_Client_100</td>\n",
              "      <td>11</td>\n",
              "      <td>105</td>\n",
              "      <td>11/07/1996</td>\n",
              "      <td>0.0</td>\n",
              "    </tr>\n",
              "    <tr>\n",
              "      <th>4</th>\n",
              "      <td>62</td>\n",
              "      <td>train_Client_1000</td>\n",
              "      <td>11</td>\n",
              "      <td>303</td>\n",
              "      <td>14/10/2014</td>\n",
              "      <td>0.0</td>\n",
              "    </tr>\n",
              "  </tbody>\n",
              "</table>\n",
              "</div>\n",
              "      <button class=\"colab-df-convert\" onclick=\"convertToInteractive('df-33945c1b-86eb-4946-a8d8-014c689c268d')\"\n",
              "              title=\"Convert this dataframe to an interactive table.\"\n",
              "              style=\"display:none;\">\n",
              "        \n",
              "  <svg xmlns=\"http://www.w3.org/2000/svg\" height=\"24px\"viewBox=\"0 0 24 24\"\n",
              "       width=\"24px\">\n",
              "    <path d=\"M0 0h24v24H0V0z\" fill=\"none\"/>\n",
              "    <path d=\"M18.56 5.44l.94 2.06.94-2.06 2.06-.94-2.06-.94-.94-2.06-.94 2.06-2.06.94zm-11 1L8.5 8.5l.94-2.06 2.06-.94-2.06-.94L8.5 2.5l-.94 2.06-2.06.94zm10 10l.94 2.06.94-2.06 2.06-.94-2.06-.94-.94-2.06-.94 2.06-2.06.94z\"/><path d=\"M17.41 7.96l-1.37-1.37c-.4-.4-.92-.59-1.43-.59-.52 0-1.04.2-1.43.59L10.3 9.45l-7.72 7.72c-.78.78-.78 2.05 0 2.83L4 21.41c.39.39.9.59 1.41.59.51 0 1.02-.2 1.41-.59l7.78-7.78 2.81-2.81c.8-.78.8-2.07 0-2.86zM5.41 20L4 18.59l7.72-7.72 1.47 1.35L5.41 20z\"/>\n",
              "  </svg>\n",
              "      </button>\n",
              "      \n",
              "  <style>\n",
              "    .colab-df-container {\n",
              "      display:flex;\n",
              "      flex-wrap:wrap;\n",
              "      gap: 12px;\n",
              "    }\n",
              "\n",
              "    .colab-df-convert {\n",
              "      background-color: #E8F0FE;\n",
              "      border: none;\n",
              "      border-radius: 50%;\n",
              "      cursor: pointer;\n",
              "      display: none;\n",
              "      fill: #1967D2;\n",
              "      height: 32px;\n",
              "      padding: 0 0 0 0;\n",
              "      width: 32px;\n",
              "    }\n",
              "\n",
              "    .colab-df-convert:hover {\n",
              "      background-color: #E2EBFA;\n",
              "      box-shadow: 0px 1px 2px rgba(60, 64, 67, 0.3), 0px 1px 3px 1px rgba(60, 64, 67, 0.15);\n",
              "      fill: #174EA6;\n",
              "    }\n",
              "\n",
              "    [theme=dark] .colab-df-convert {\n",
              "      background-color: #3B4455;\n",
              "      fill: #D2E3FC;\n",
              "    }\n",
              "\n",
              "    [theme=dark] .colab-df-convert:hover {\n",
              "      background-color: #434B5C;\n",
              "      box-shadow: 0px 1px 3px 1px rgba(0, 0, 0, 0.15);\n",
              "      filter: drop-shadow(0px 1px 2px rgba(0, 0, 0, 0.3));\n",
              "      fill: #FFFFFF;\n",
              "    }\n",
              "  </style>\n",
              "\n",
              "      <script>\n",
              "        const buttonEl =\n",
              "          document.querySelector('#df-33945c1b-86eb-4946-a8d8-014c689c268d button.colab-df-convert');\n",
              "        buttonEl.style.display =\n",
              "          google.colab.kernel.accessAllowed ? 'block' : 'none';\n",
              "\n",
              "        async function convertToInteractive(key) {\n",
              "          const element = document.querySelector('#df-33945c1b-86eb-4946-a8d8-014c689c268d');\n",
              "          const dataTable =\n",
              "            await google.colab.kernel.invokeFunction('convertToInteractive',\n",
              "                                                     [key], {});\n",
              "          if (!dataTable) return;\n",
              "\n",
              "          const docLinkHtml = 'Like what you see? Visit the ' +\n",
              "            '<a target=\"_blank\" href=https://colab.research.google.com/notebooks/data_table.ipynb>data table notebook</a>'\n",
              "            + ' to learn more about interactive tables.';\n",
              "          element.innerHTML = '';\n",
              "          dataTable['output_type'] = 'display_data';\n",
              "          await google.colab.output.renderOutput(dataTable, element);\n",
              "          const docLink = document.createElement('div');\n",
              "          docLink.innerHTML = docLinkHtml;\n",
              "          element.appendChild(docLink);\n",
              "        }\n",
              "      </script>\n",
              "    </div>\n",
              "  </div>\n",
              "  "
            ],
            "text/plain": [
              "   disrict          client_id  client_catg  region creation_date  target\n",
              "0       60     train_Client_0           11     101    31/12/1994     0.0\n",
              "1       69     train_Client_1           11     107    29/05/2002     0.0\n",
              "2       62    train_Client_10           11     301    13/03/1986     0.0\n",
              "3       69   train_Client_100           11     105    11/07/1996     0.0\n",
              "4       62  train_Client_1000           11     303    14/10/2014     0.0"
            ]
          },
          "metadata": {},
          "execution_count": 5
        }
      ],
      "source": [
        "print(client_train.info())\n",
        "print('\\n',client_train.describe())\n",
        "print('\\nnumber of entries {}'.format(client_train.shape))\n",
        "client_train.head()"
      ]
    },
    {
      "cell_type": "code",
      "execution_count": null,
      "metadata": {
        "colab": {
          "base_uri": "https://localhost:8080/",
          "height": 930
        },
        "id": "BdumSex30zJj",
        "outputId": "a61fefd6-67e5-4abe-d8e0-9d3c64f3e043"
      },
      "outputs": [
        {
          "output_type": "stream",
          "name": "stdout",
          "text": [
            "<class 'pandas.core.frame.DataFrame'>\n",
            "RangeIndex: 4476749 entries, 0 to 4476748\n",
            "Data columns (total 16 columns):\n",
            " #   Column                Dtype \n",
            "---  ------                ----- \n",
            " 0   client_id             object\n",
            " 1   invoice_date          object\n",
            " 2   tarif_type            int64 \n",
            " 3   counter_number        int64 \n",
            " 4   counter_statue        object\n",
            " 5   counter_code          int64 \n",
            " 6   reading_remarque      int64 \n",
            " 7   counter_coefficient   int64 \n",
            " 8   consommation_level_1  int64 \n",
            " 9   consommation_level_2  int64 \n",
            " 10  consommation_level_3  int64 \n",
            " 11  consommation_level_4  int64 \n",
            " 12  old_index             int64 \n",
            " 13  new_index             int64 \n",
            " 14  months_number         int64 \n",
            " 15  counter_type          object\n",
            "dtypes: int64(12), object(4)\n",
            "memory usage: 546.5+ MB\n",
            "None\n",
            "\n",
            "        tarif_type   counter_number  ...  new_index  months_number\n",
            "count   4476749.0        4476749.0  ...  4476749.0      4476749.0\n",
            "mean         20.1   123058699065.2  ...    18349.7           44.8\n",
            "std          13.5  1657267274263.3  ...    40953.2         3128.3\n",
            "min           8.0              0.0  ...        0.0            0.0\n",
            "25%          11.0         121108.0  ...     2056.0            4.0\n",
            "50%          11.0         494561.0  ...     8192.0            4.0\n",
            "75%          40.0        1115161.0  ...    22343.0            4.0\n",
            "max          45.0 27981145458733.0  ...  2870972.0       636624.0\n",
            "\n",
            "[8 rows x 12 columns]\n",
            "\n",
            "number of entries (4476749, 16)\n"
          ]
        },
        {
          "output_type": "execute_result",
          "data": {
            "text/html": [
              "\n",
              "  <div id=\"df-7ce62fe7-6f59-47f0-ba79-82e6f7131687\">\n",
              "    <div class=\"colab-df-container\">\n",
              "      <div>\n",
              "<style scoped>\n",
              "    .dataframe tbody tr th:only-of-type {\n",
              "        vertical-align: middle;\n",
              "    }\n",
              "\n",
              "    .dataframe tbody tr th {\n",
              "        vertical-align: top;\n",
              "    }\n",
              "\n",
              "    .dataframe thead th {\n",
              "        text-align: right;\n",
              "    }\n",
              "</style>\n",
              "<table border=\"1\" class=\"dataframe\">\n",
              "  <thead>\n",
              "    <tr style=\"text-align: right;\">\n",
              "      <th></th>\n",
              "      <th>client_id</th>\n",
              "      <th>invoice_date</th>\n",
              "      <th>tarif_type</th>\n",
              "      <th>counter_number</th>\n",
              "      <th>counter_statue</th>\n",
              "      <th>counter_code</th>\n",
              "      <th>reading_remarque</th>\n",
              "      <th>counter_coefficient</th>\n",
              "      <th>consommation_level_1</th>\n",
              "      <th>consommation_level_2</th>\n",
              "      <th>consommation_level_3</th>\n",
              "      <th>consommation_level_4</th>\n",
              "      <th>old_index</th>\n",
              "      <th>new_index</th>\n",
              "      <th>months_number</th>\n",
              "      <th>counter_type</th>\n",
              "    </tr>\n",
              "  </thead>\n",
              "  <tbody>\n",
              "    <tr>\n",
              "      <th>0</th>\n",
              "      <td>train_Client_0</td>\n",
              "      <td>2014-03-24</td>\n",
              "      <td>11</td>\n",
              "      <td>1335667</td>\n",
              "      <td>0</td>\n",
              "      <td>203</td>\n",
              "      <td>8</td>\n",
              "      <td>1</td>\n",
              "      <td>82</td>\n",
              "      <td>0</td>\n",
              "      <td>0</td>\n",
              "      <td>0</td>\n",
              "      <td>14302</td>\n",
              "      <td>14384</td>\n",
              "      <td>4</td>\n",
              "      <td>ELEC</td>\n",
              "    </tr>\n",
              "    <tr>\n",
              "      <th>1</th>\n",
              "      <td>train_Client_0</td>\n",
              "      <td>2013-03-29</td>\n",
              "      <td>11</td>\n",
              "      <td>1335667</td>\n",
              "      <td>0</td>\n",
              "      <td>203</td>\n",
              "      <td>6</td>\n",
              "      <td>1</td>\n",
              "      <td>1200</td>\n",
              "      <td>184</td>\n",
              "      <td>0</td>\n",
              "      <td>0</td>\n",
              "      <td>12294</td>\n",
              "      <td>13678</td>\n",
              "      <td>4</td>\n",
              "      <td>ELEC</td>\n",
              "    </tr>\n",
              "    <tr>\n",
              "      <th>2</th>\n",
              "      <td>train_Client_0</td>\n",
              "      <td>2015-03-23</td>\n",
              "      <td>11</td>\n",
              "      <td>1335667</td>\n",
              "      <td>0</td>\n",
              "      <td>203</td>\n",
              "      <td>8</td>\n",
              "      <td>1</td>\n",
              "      <td>123</td>\n",
              "      <td>0</td>\n",
              "      <td>0</td>\n",
              "      <td>0</td>\n",
              "      <td>14624</td>\n",
              "      <td>14747</td>\n",
              "      <td>4</td>\n",
              "      <td>ELEC</td>\n",
              "    </tr>\n",
              "    <tr>\n",
              "      <th>3</th>\n",
              "      <td>train_Client_0</td>\n",
              "      <td>2015-07-13</td>\n",
              "      <td>11</td>\n",
              "      <td>1335667</td>\n",
              "      <td>0</td>\n",
              "      <td>207</td>\n",
              "      <td>8</td>\n",
              "      <td>1</td>\n",
              "      <td>102</td>\n",
              "      <td>0</td>\n",
              "      <td>0</td>\n",
              "      <td>0</td>\n",
              "      <td>14747</td>\n",
              "      <td>14849</td>\n",
              "      <td>4</td>\n",
              "      <td>ELEC</td>\n",
              "    </tr>\n",
              "    <tr>\n",
              "      <th>4</th>\n",
              "      <td>train_Client_0</td>\n",
              "      <td>2016-11-17</td>\n",
              "      <td>11</td>\n",
              "      <td>1335667</td>\n",
              "      <td>0</td>\n",
              "      <td>207</td>\n",
              "      <td>9</td>\n",
              "      <td>1</td>\n",
              "      <td>572</td>\n",
              "      <td>0</td>\n",
              "      <td>0</td>\n",
              "      <td>0</td>\n",
              "      <td>15066</td>\n",
              "      <td>15638</td>\n",
              "      <td>12</td>\n",
              "      <td>ELEC</td>\n",
              "    </tr>\n",
              "  </tbody>\n",
              "</table>\n",
              "</div>\n",
              "      <button class=\"colab-df-convert\" onclick=\"convertToInteractive('df-7ce62fe7-6f59-47f0-ba79-82e6f7131687')\"\n",
              "              title=\"Convert this dataframe to an interactive table.\"\n",
              "              style=\"display:none;\">\n",
              "        \n",
              "  <svg xmlns=\"http://www.w3.org/2000/svg\" height=\"24px\"viewBox=\"0 0 24 24\"\n",
              "       width=\"24px\">\n",
              "    <path d=\"M0 0h24v24H0V0z\" fill=\"none\"/>\n",
              "    <path d=\"M18.56 5.44l.94 2.06.94-2.06 2.06-.94-2.06-.94-.94-2.06-.94 2.06-2.06.94zm-11 1L8.5 8.5l.94-2.06 2.06-.94-2.06-.94L8.5 2.5l-.94 2.06-2.06.94zm10 10l.94 2.06.94-2.06 2.06-.94-2.06-.94-.94-2.06-.94 2.06-2.06.94z\"/><path d=\"M17.41 7.96l-1.37-1.37c-.4-.4-.92-.59-1.43-.59-.52 0-1.04.2-1.43.59L10.3 9.45l-7.72 7.72c-.78.78-.78 2.05 0 2.83L4 21.41c.39.39.9.59 1.41.59.51 0 1.02-.2 1.41-.59l7.78-7.78 2.81-2.81c.8-.78.8-2.07 0-2.86zM5.41 20L4 18.59l7.72-7.72 1.47 1.35L5.41 20z\"/>\n",
              "  </svg>\n",
              "      </button>\n",
              "      \n",
              "  <style>\n",
              "    .colab-df-container {\n",
              "      display:flex;\n",
              "      flex-wrap:wrap;\n",
              "      gap: 12px;\n",
              "    }\n",
              "\n",
              "    .colab-df-convert {\n",
              "      background-color: #E8F0FE;\n",
              "      border: none;\n",
              "      border-radius: 50%;\n",
              "      cursor: pointer;\n",
              "      display: none;\n",
              "      fill: #1967D2;\n",
              "      height: 32px;\n",
              "      padding: 0 0 0 0;\n",
              "      width: 32px;\n",
              "    }\n",
              "\n",
              "    .colab-df-convert:hover {\n",
              "      background-color: #E2EBFA;\n",
              "      box-shadow: 0px 1px 2px rgba(60, 64, 67, 0.3), 0px 1px 3px 1px rgba(60, 64, 67, 0.15);\n",
              "      fill: #174EA6;\n",
              "    }\n",
              "\n",
              "    [theme=dark] .colab-df-convert {\n",
              "      background-color: #3B4455;\n",
              "      fill: #D2E3FC;\n",
              "    }\n",
              "\n",
              "    [theme=dark] .colab-df-convert:hover {\n",
              "      background-color: #434B5C;\n",
              "      box-shadow: 0px 1px 3px 1px rgba(0, 0, 0, 0.15);\n",
              "      filter: drop-shadow(0px 1px 2px rgba(0, 0, 0, 0.3));\n",
              "      fill: #FFFFFF;\n",
              "    }\n",
              "  </style>\n",
              "\n",
              "      <script>\n",
              "        const buttonEl =\n",
              "          document.querySelector('#df-7ce62fe7-6f59-47f0-ba79-82e6f7131687 button.colab-df-convert');\n",
              "        buttonEl.style.display =\n",
              "          google.colab.kernel.accessAllowed ? 'block' : 'none';\n",
              "\n",
              "        async function convertToInteractive(key) {\n",
              "          const element = document.querySelector('#df-7ce62fe7-6f59-47f0-ba79-82e6f7131687');\n",
              "          const dataTable =\n",
              "            await google.colab.kernel.invokeFunction('convertToInteractive',\n",
              "                                                     [key], {});\n",
              "          if (!dataTable) return;\n",
              "\n",
              "          const docLinkHtml = 'Like what you see? Visit the ' +\n",
              "            '<a target=\"_blank\" href=https://colab.research.google.com/notebooks/data_table.ipynb>data table notebook</a>'\n",
              "            + ' to learn more about interactive tables.';\n",
              "          element.innerHTML = '';\n",
              "          dataTable['output_type'] = 'display_data';\n",
              "          await google.colab.output.renderOutput(dataTable, element);\n",
              "          const docLink = document.createElement('div');\n",
              "          docLink.innerHTML = docLinkHtml;\n",
              "          element.appendChild(docLink);\n",
              "        }\n",
              "      </script>\n",
              "    </div>\n",
              "  </div>\n",
              "  "
            ],
            "text/plain": [
              "        client_id invoice_date  ...  months_number  counter_type\n",
              "0  train_Client_0   2014-03-24  ...              4          ELEC\n",
              "1  train_Client_0   2013-03-29  ...              4          ELEC\n",
              "2  train_Client_0   2015-03-23  ...              4          ELEC\n",
              "3  train_Client_0   2015-07-13  ...              4          ELEC\n",
              "4  train_Client_0   2016-11-17  ...             12          ELEC\n",
              "\n",
              "[5 rows x 16 columns]"
            ]
          },
          "metadata": {},
          "execution_count": 6
        }
      ],
      "source": [
        "print(invoice_train.info())\n",
        "print('\\n',invoice_train.describe())\n",
        "print('\\nnumber of entries {}'.format(invoice_train.shape))\n",
        "invoice_train.head()"
      ]
    },
    {
      "cell_type": "markdown",
      "metadata": {
        "id": "xJeZSQGA0zJl"
      },
      "source": [
        "The exploration of data types reveals that most columns have appropriate types, except for the **'client_id'** that should be set to a string and the **'invoide_data'** and **'creation_date'** that should be transformed into a datetime, the **'counter_statue'** seems to have an string outlier in a numeric column. other than that the description also show that there is no missing data in the dataset for all columns. The district and the client_catg seem to have very close values with a quantile having very close values."
      ]
    },
    {
      "cell_type": "code",
      "execution_count": null,
      "metadata": {
        "colab": {
          "base_uri": "https://localhost:8080/",
          "height": 1000
        },
        "id": "DApHpyLC0zJl",
        "outputId": "577ab090-5b0b-4433-cf6c-63d2f6126da2"
      },
      "outputs": [
        {
          "output_type": "display_data",
          "data": {
            "image/png": "[encoded data removed]",
            "text/plain": [
              "<Figure size 432x288 with 1 Axes>"
            ]
          },
          "metadata": {
            "needs_background": "light"
          }
        },
        {
          "output_type": "display_data",
          "data": {
            "image/png": "[encoded data removed]",
            "text/plain": [
              "<Figure size 432x288 with 1 Axes>"
            ]
          },
          "metadata": {
            "needs_background": "light"
          }
        },
        {
          "output_type": "display_data",
          "data": {
            "image/png": "[encoded data removed]",
            "text/plain": [
              "<Figure size 432x288 with 1 Axes>"
            ]
          },
          "metadata": {
            "needs_background": "light"
          }
        },
        {
          "output_type": "display_data",
          "data": {
            "image/png": "[encoded data removed]",
            "text/plain": [
              "<Figure size 432x288 with 1 Axes>"
            ]
          },
          "metadata": {
            "needs_background": "light"
          }
        },
        {
          "output_type": "display_data",
          "data": {
            "image/png": "[encoded data removed]",
            "text/plain": [
              "<Figure size 432x288 with 1 Axes>"
            ]
          },
          "metadata": {
            "needs_background": "light"
          }
        }
      ],
      "source": [
        "# Ploting data from the Invoice training data\n",
        "invoice_columns = ['tarif_type','counter_code','reading_remarque','counter_type','counter_coefficient']\n",
        "\n",
        "for col in invoice_columns:\n",
        "    ds = invoice_train.groupby([col])['client_id'].count()\n",
        "    plt.bar(x=ds.index, height=ds.values)\n",
        "    plt.title(col+' distribution')\n",
        "    plt.show()\n"
      ]
    },
    {
      "cell_type": "code",
      "source": [
        "print('Number of unique values in invoice_train:')\n",
        "for col in invoice_train.columns:\n",
        "    print(f\"{col} - {invoice_train[col].nunique()}\")"
      ],
      "metadata": {
        "colab": {
          "base_uri": "https://localhost:8080/"
        },
        "id": "ayAd-AjMcVmT",
        "outputId": "fcc5b950-9aca-41b5-b386-e9b32132fbaa"
      },
      "execution_count": null,
      "outputs": [
        {
          "output_type": "stream",
          "name": "stdout",
          "text": [
            "Number of unique values in invoice_train:\n",
            "client_id - 135493\n",
            "invoice_date - 8275\n",
            "tarif_type - 17\n",
            "counter_number - 201893\n",
            "counter_statue - 16\n",
            "counter_code - 42\n",
            "reading_remarque - 8\n",
            "counter_coefficient - 16\n",
            "consommation_level_1 - 8295\n",
            "consommation_level_2 - 12576\n",
            "consommation_level_3 - 2253\n",
            "consommation_level_4 - 12075\n",
            "old_index - 155648\n",
            "new_index - 157980\n",
            "months_number - 1370\n",
            "counter_type - 2\n"
          ]
        }
      ]
    },
    {
      "cell_type": "markdown",
      "source": [
        "Looking at the charts above, we can see that 'counter_coefficient' column can be removed since it uniform for all entries.  "
      ],
      "metadata": {
        "id": "Nce1MsefqIIG"
      }
    },
    {
      "cell_type": "code",
      "source": [
        "# Ploting data from the client training data\n",
        "client_columns = ['disrict', 'client_catg' ,  'region' ,  'target']\n",
        "for col in client_columns:\n",
        "    ds = client_train.groupby([col])['client_id'].count()\n",
        "    plt.bar(x=ds.index, height=ds.values)\n",
        "    plt.title(col+' distribution')\n",
        "    plt.show()"
      ],
      "metadata": {
        "colab": {
          "base_uri": "https://localhost:8080/",
          "height": 1000
        },
        "id": "oG14ftC7rsk7",
        "outputId": "e74ca89a-4ba2-495f-c607-e48babd50526"
      },
      "execution_count": null,
      "outputs": [
        {
          "output_type": "display_data",
          "data": {
            "image/png": "[encoded data removed]",
            "text/plain": [
              "<Figure size 432x288 with 1 Axes>"
            ]
          },
          "metadata": {
            "needs_background": "light"
          }
        },
        {
          "output_type": "display_data",
          "data": {
            "image/png": "[encoded data removed]",
            "text/plain": [
              "<Figure size 432x288 with 1 Axes>"
            ]
          },
          "metadata": {
            "needs_background": "light"
          }
        },
        {
          "output_type": "display_data",
          "data": {
            "image/png": "[encoded data removed]",
            "text/plain": [
              "<Figure size 432x288 with 1 Axes>"
            ]
          },
          "metadata": {
            "needs_background": "light"
          }
        },
        {
          "output_type": "display_data",
          "data": {
            "image/png": "[encoded data removed]",
            "text/plain": [
              "<Figure size 432x288 with 1 Axes>"
            ]
          },
          "metadata": {
            "needs_background": "light"
          }
        }
      ]
    },
    {
      "cell_type": "code",
      "execution_count": null,
      "metadata": {
        "colab": {
          "base_uri": "https://localhost:8080/",
          "height": 683
        },
        "id": "eg52qPOj0zJr",
        "outputId": "94bd49dc-fcd2-4b93-8953-eb1a19c580f6"
      },
      "outputs": [
        {
          "output_type": "display_data",
          "data": {
            "image/png": "[encoded data removed]",
            "text/plain": [
              "<Figure size 1440x360 with 1 Axes>"
            ]
          },
          "metadata": {
            "needs_background": "light"
          }
        },
        {
          "output_type": "display_data",
          "data": {
            "image/png": "[encoded data removed]",
            "text/plain": [
              "<Figure size 1440x360 with 1 Axes>"
            ]
          },
          "metadata": {
            "needs_background": "light"
          }
        }
      ],
      "source": [
        "figure(figsize=(20,5))\n",
        "sns.histplot(client_train, x='disrict', hue='target', multiple='dodge')\n",
        "plt.xlabel('District')\n",
        "plt.ylabel('Count')\n",
        "plt.title('The number of clients per district')\n",
        "plt.show()\n",
        "\n",
        "figure(figsize=(20,5))\n",
        "sns.histplot(client_train, x='client_catg', hue='target', multiple='dodge')\n",
        "plt.xlabel('Client category')\n",
        "plt.ylabel('Count')\n",
        "plt.title('The number of clients per Category')\n",
        "plt.show()"
      ]
    },
    {
      "cell_type": "markdown",
      "metadata": {
        "id": "vEz20NjK0zJt"
      },
      "source": [
        "It is intersting to see that the  districts have approximately the same number of clients. "
      ]
    },
    {
      "cell_type": "code",
      "execution_count": null,
      "metadata": {
        "colab": {
          "base_uri": "https://localhost:8080/"
        },
        "id": "Mdn2V2-E0zJu",
        "outputId": "52af28ad-ad82-4049-817d-712d0f872a46"
      },
      "outputs": [
        {
          "output_type": "stream",
          "name": "stdout",
          "text": [
            "The pourcentage of fraudulent client in the dataset is :5.58%\n"
          ]
        }
      ],
      "source": [
        "print(\"The pourcentage of fraudulent client in the dataset is :{:.2f}%\".format(100*client_train['target'].sum() / client_train.shape[0]))"
      ]
    },
    {
      "cell_type": "markdown",
      "metadata": {
        "id": "Pa2XBa2p0zJv"
      },
      "source": [
        "##Data cleaning and merging"
      ]
    },
    {
      "cell_type": "code",
      "execution_count": null,
      "metadata": {
        "id": "42IdDHwe0zJv"
      },
      "outputs": [],
      "source": [
        "def clean_invoice_data(invoice_df):\n",
        "    ###### Cleaning the Invoice train/test data\n",
        "\n",
        "    # Encode tha counter_type column, 1 for ELEC and 0 for GAZ\n",
        "    invoice_df['counter_type'] = np.where(invoice_df[\"counter_type\"].str.contains(\"ELEC\"), 1, 0)\n",
        "    \n",
        "    # Convert invoice_date column to date and create other column for year, month\n",
        "    invoice_df['invoice_date'] = pd.to_datetime(invoice_df['invoice_date'], dayfirst=True)\n",
        "    invoice_df['invoice_month'] = invoice_df['invoice_date'].dt.month\n",
        "    invoice_df['invoice_year'] = invoice_df['invoice_date'].dt.year\n",
        "    invoice_df['is_weekday'] = ((pd.DatetimeIndex(invoice_df['invoice_date']).dayofweek) // 5 == 1).astype(float)\n",
        "\n",
        "    # cleaned the counter_statue column and convert it into numeric\n",
        "    invoice_df['counter_statue'] = pd.to_numeric(invoice_df['counter_statue']\n",
        "                                                 .map({0:0,1:1,2:2,3:3,4:4,5:5,769:5,'0':0,'5':5,'1':1,'4':4,'A':0,618:5,269375:5,46:5,420:5}))\n",
        "\n",
        "    # Extract only useful column for training\n",
        "    df = invoice_df[['client_id', 'counter_type','invoice_month', 'invoice_year', 'is_weekday', 'tarif_type', 'counter_statue',\n",
        "                     'counter_code', 'reading_remarque','counter_coefficient']].groupby(['client_id']).mean()   \n",
        "\n",
        "    invoice_df['delta_index'] = (invoice_df['old_index'] - invoice_df['new_index']) / invoice_df['months_number']\n",
        "    \n",
        "    invoice_df['consumption_per_month'] = invoice_df[[ \n",
        "                     'consommation_level_1', \n",
        "                     'consommation_level_2',\n",
        "                     'consommation_level_3', \n",
        "                     'consommation_level_4']].sum(axis=1)\n",
        "    \n",
        "    invoice_df['consumption_per_month'] = invoice_df['consumption_per_month'] / invoice_df['months_number']\n",
        "    df['consumption_per_month'] = invoice_df.groupby('client_id').mean()['consumption_per_month']\n",
        "    df['delta_index'] = invoice_df.groupby('client_id').mean()['delta_index']\n",
        "\n",
        "    return df\n",
        "\n",
        "def clean_client_data(client_df):\n",
        "    ################################################################################################################################\n",
        "\n",
        "    ###### Cleaning the Client train/test data\n",
        "    # we divide the 'region' column into three-group column  \n",
        "    client_df['regions'] = client_df['region'].apply(lambda x: 100 if x<100 else 300 if x>300 else 200) \n",
        "\n",
        "    # we created the 'working_time' column as an  amount of time since account creation in months, start date is 31/12/2018 is 2019\n",
        "    client_df['creation_date'] = pd.to_datetime(client_df['creation_date'])\n",
        "    client_df['working_time'] = (2019 - client_df['creation_date'].dt.year)*12 - client_df['creation_date'].dt.month\n",
        "    # the following columns were turned into categories\n",
        "    client_df['client_catg'] = client_df['client_catg'].astype('category')\n",
        "    client_df['disrict'] = client_df['disrict'].astype('category')\n",
        "    client_df['regions'] = client_df['regions'].astype('category')\n",
        "\n",
        "    # we droped unneccesary columns\n",
        "    client_df = client_df.drop(columns=['creation_date','region'])\n",
        "\n",
        "    return client_df\n",
        "\n",
        "\n",
        "def merge_dataframe(client_df, invoice_df):\n",
        "    return invoice_df.merge(client_df,  on='client_id')"
      ]
    },
    {
      "cell_type": "code",
      "source": [
        "# using the implemented function for clean the invoice training data\n",
        "invoice_train_df = clean_invoice_data(invoice_train)\n",
        "# using the implemented function for clean the client training data\n",
        "client_train_df = clean_client_data(client_train)\n",
        "# Merge the two data frame\n",
        "train_data = merge_dataframe(client_train_df, invoice_train_df)\n",
        "\n",
        "# using the implemented function for clean the invoice testing data\n",
        "invoice_test_df = clean_invoice_data(invoice_test)\n",
        "# using the implemented function for clean the client testing data\n",
        "client_test_df = clean_client_data(client_test)\n",
        "# Merge the two data frame\n",
        "test_data = merge_dataframe(client_test_df, invoice_test_df)\n",
        "\n",
        "train_data.info()\n",
        "train_data.head()"
      ],
      "metadata": {
        "id": "4U60MLD18s5X",
        "colab": {
          "base_uri": "https://localhost:8080/",
          "height": 687
        },
        "outputId": "83024494-25b8-44d3-a89f-c4e6404560fc"
      },
      "execution_count": null,
      "outputs": [
        {
          "output_type": "stream",
          "name": "stdout",
          "text": [
            "<class 'pandas.core.frame.DataFrame'>\n",
            "Int64Index: 135493 entries, 0 to 135492\n",
            "Data columns (total 17 columns):\n",
            " #   Column                 Non-Null Count   Dtype   \n",
            "---  ------                 --------------   -----   \n",
            " 0   client_id              135493 non-null  object  \n",
            " 1   counter_type           135493 non-null  float64 \n",
            " 2   invoice_month          135493 non-null  float64 \n",
            " 3   invoice_year           135493 non-null  float64 \n",
            " 4   is_weekday             135493 non-null  float64 \n",
            " 5   tarif_type             135493 non-null  float64 \n",
            " 6   counter_statue         135493 non-null  float64 \n",
            " 7   counter_code           135493 non-null  float64 \n",
            " 8   reading_remarque       135493 non-null  float64 \n",
            " 9   counter_coefficient    135493 non-null  float64 \n",
            " 10  consumption_per_month  135493 non-null  float64 \n",
            " 11  delta_index            135493 non-null  float64 \n",
            " 12  disrict                135493 non-null  category\n",
            " 13  client_catg            135493 non-null  category\n",
            " 14  target                 135493 non-null  float64 \n",
            " 15  regions                135493 non-null  category\n",
            " 16  working_time           135493 non-null  int64   \n",
            "dtypes: category(3), float64(12), int64(1), object(1)\n",
            "memory usage: 15.9+ MB\n"
          ]
        },
        {
          "output_type": "execute_result",
          "data": {
            "text/html": [
              "\n",
              "  <div id=\"df-68c653ce-baf2-4463-9631-8969b84bd801\">\n",
              "    <div class=\"colab-df-container\">\n",
              "      <div>\n",
              "<style scoped>\n",
              "    .dataframe tbody tr th:only-of-type {\n",
              "        vertical-align: middle;\n",
              "    }\n",
              "\n",
              "    .dataframe tbody tr th {\n",
              "        vertical-align: top;\n",
              "    }\n",
              "\n",
              "    .dataframe thead th {\n",
              "        text-align: right;\n",
              "    }\n",
              "</style>\n",
              "<table border=\"1\" class=\"dataframe\">\n",
              "  <thead>\n",
              "    <tr style=\"text-align: right;\">\n",
              "      <th></th>\n",
              "      <th>client_id</th>\n",
              "      <th>counter_type</th>\n",
              "      <th>invoice_month</th>\n",
              "      <th>invoice_year</th>\n",
              "      <th>is_weekday</th>\n",
              "      <th>tarif_type</th>\n",
              "      <th>counter_statue</th>\n",
              "      <th>counter_code</th>\n",
              "      <th>reading_remarque</th>\n",
              "      <th>counter_coefficient</th>\n",
              "      <th>consumption_per_month</th>\n",
              "      <th>delta_index</th>\n",
              "      <th>disrict</th>\n",
              "      <th>client_catg</th>\n",
              "      <th>target</th>\n",
              "      <th>regions</th>\n",
              "      <th>working_time</th>\n",
              "    </tr>\n",
              "  </thead>\n",
              "  <tbody>\n",
              "    <tr>\n",
              "      <th>0</th>\n",
              "      <td>train_Client_0</td>\n",
              "      <td>1.0</td>\n",
              "      <td>6.7</td>\n",
              "      <td>2011.1</td>\n",
              "      <td>0.0</td>\n",
              "      <td>11.0</td>\n",
              "      <td>0.0</td>\n",
              "      <td>203.7</td>\n",
              "      <td>7.0</td>\n",
              "      <td>1.0</td>\n",
              "      <td>82.5</td>\n",
              "      <td>-82.5</td>\n",
              "      <td>60</td>\n",
              "      <td>11</td>\n",
              "      <td>0.0</td>\n",
              "      <td>200</td>\n",
              "      <td>288</td>\n",
              "    </tr>\n",
              "    <tr>\n",
              "      <th>1</th>\n",
              "      <td>train_Client_1</td>\n",
              "      <td>1.0</td>\n",
              "      <td>5.1</td>\n",
              "      <td>2011.8</td>\n",
              "      <td>0.1</td>\n",
              "      <td>11.0</td>\n",
              "      <td>0.0</td>\n",
              "      <td>203.0</td>\n",
              "      <td>7.2</td>\n",
              "      <td>1.0</td>\n",
              "      <td>129.4</td>\n",
              "      <td>-129.4</td>\n",
              "      <td>69</td>\n",
              "      <td>11</td>\n",
              "      <td>0.0</td>\n",
              "      <td>200</td>\n",
              "      <td>199</td>\n",
              "    </tr>\n",
              "    <tr>\n",
              "      <th>2</th>\n",
              "      <td>train_Client_10</td>\n",
              "      <td>1.0</td>\n",
              "      <td>6.6</td>\n",
              "      <td>2010.9</td>\n",
              "      <td>0.1</td>\n",
              "      <td>11.0</td>\n",
              "      <td>0.0</td>\n",
              "      <td>203.2</td>\n",
              "      <td>7.1</td>\n",
              "      <td>1.0</td>\n",
              "      <td>127.0</td>\n",
              "      <td>-127.0</td>\n",
              "      <td>62</td>\n",
              "      <td>11</td>\n",
              "      <td>0.0</td>\n",
              "      <td>300</td>\n",
              "      <td>393</td>\n",
              "    </tr>\n",
              "    <tr>\n",
              "      <th>3</th>\n",
              "      <td>train_Client_100</td>\n",
              "      <td>1.0</td>\n",
              "      <td>5.5</td>\n",
              "      <td>2008.6</td>\n",
              "      <td>0.1</td>\n",
              "      <td>11.0</td>\n",
              "      <td>0.0</td>\n",
              "      <td>413.0</td>\n",
              "      <td>6.2</td>\n",
              "      <td>1.0</td>\n",
              "      <td>0.3</td>\n",
              "      <td>-0.3</td>\n",
              "      <td>69</td>\n",
              "      <td>11</td>\n",
              "      <td>0.0</td>\n",
              "      <td>200</td>\n",
              "      <td>265</td>\n",
              "    </tr>\n",
              "    <tr>\n",
              "      <th>4</th>\n",
              "      <td>train_Client_1000</td>\n",
              "      <td>1.0</td>\n",
              "      <td>7.6</td>\n",
              "      <td>2016.9</td>\n",
              "      <td>0.3</td>\n",
              "      <td>11.0</td>\n",
              "      <td>0.0</td>\n",
              "      <td>207.0</td>\n",
              "      <td>8.9</td>\n",
              "      <td>1.0</td>\n",
              "      <td>237.9</td>\n",
              "      <td>-237.9</td>\n",
              "      <td>62</td>\n",
              "      <td>11</td>\n",
              "      <td>0.0</td>\n",
              "      <td>300</td>\n",
              "      <td>50</td>\n",
              "    </tr>\n",
              "  </tbody>\n",
              "</table>\n",
              "</div>\n",
              "      <button class=\"colab-df-convert\" onclick=\"convertToInteractive('df-68c653ce-baf2-4463-9631-8969b84bd801')\"\n",
              "              title=\"Convert this dataframe to an interactive table.\"\n",
              "              style=\"display:none;\">\n",
              "        \n",
              "  <svg xmlns=\"http://www.w3.org/2000/svg\" height=\"24px\"viewBox=\"0 0 24 24\"\n",
              "       width=\"24px\">\n",
              "    <path d=\"M0 0h24v24H0V0z\" fill=\"none\"/>\n",
              "    <path d=\"M18.56 5.44l.94 2.06.94-2.06 2.06-.94-2.06-.94-.94-2.06-.94 2.06-2.06.94zm-11 1L8.5 8.5l.94-2.06 2.06-.94-2.06-.94L8.5 2.5l-.94 2.06-2.06.94zm10 10l.94 2.06.94-2.06 2.06-.94-2.06-.94-.94-2.06-.94 2.06-2.06.94z\"/><path d=\"M17.41 7.96l-1.37-1.37c-.4-.4-.92-.59-1.43-.59-.52 0-1.04.2-1.43.59L10.3 9.45l-7.72 7.72c-.78.78-.78 2.05 0 2.83L4 21.41c.39.39.9.59 1.41.59.51 0 1.02-.2 1.41-.59l7.78-7.78 2.81-2.81c.8-.78.8-2.07 0-2.86zM5.41 20L4 18.59l7.72-7.72 1.47 1.35L5.41 20z\"/>\n",
              "  </svg>\n",
              "      </button>\n",
              "      \n",
              "  <style>\n",
              "    .colab-df-container {\n",
              "      display:flex;\n",
              "      flex-wrap:wrap;\n",
              "      gap: 12px;\n",
              "    }\n",
              "\n",
              "    .colab-df-convert {\n",
              "      background-color: #E8F0FE;\n",
              "      border: none;\n",
              "      border-radius: 50%;\n",
              "      cursor: pointer;\n",
              "      display: none;\n",
              "      fill: #1967D2;\n",
              "      height: 32px;\n",
              "      padding: 0 0 0 0;\n",
              "      width: 32px;\n",
              "    }\n",
              "\n",
              "    .colab-df-convert:hover {\n",
              "      background-color: #E2EBFA;\n",
              "      box-shadow: 0px 1px 2px rgba(60, 64, 67, 0.3), 0px 1px 3px 1px rgba(60, 64, 67, 0.15);\n",
              "      fill: #174EA6;\n",
              "    }\n",
              "\n",
              "    [theme=dark] .colab-df-convert {\n",
              "      background-color: #3B4455;\n",
              "      fill: #D2E3FC;\n",
              "    }\n",
              "\n",
              "    [theme=dark] .colab-df-convert:hover {\n",
              "      background-color: #434B5C;\n",
              "      box-shadow: 0px 1px 3px 1px rgba(0, 0, 0, 0.15);\n",
              "      filter: drop-shadow(0px 1px 2px rgba(0, 0, 0, 0.3));\n",
              "      fill: #FFFFFF;\n",
              "    }\n",
              "  </style>\n",
              "\n",
              "      <script>\n",
              "        const buttonEl =\n",
              "          document.querySelector('#df-68c653ce-baf2-4463-9631-8969b84bd801 button.colab-df-convert');\n",
              "        buttonEl.style.display =\n",
              "          google.colab.kernel.accessAllowed ? 'block' : 'none';\n",
              "\n",
              "        async function convertToInteractive(key) {\n",
              "          const element = document.querySelector('#df-68c653ce-baf2-4463-9631-8969b84bd801');\n",
              "          const dataTable =\n",
              "            await google.colab.kernel.invokeFunction('convertToInteractive',\n",
              "                                                     [key], {});\n",
              "          if (!dataTable) return;\n",
              "\n",
              "          const docLinkHtml = 'Like what you see? Visit the ' +\n",
              "            '<a target=\"_blank\" href=https://colab.research.google.com/notebooks/data_table.ipynb>data table notebook</a>'\n",
              "            + ' to learn more about interactive tables.';\n",
              "          element.innerHTML = '';\n",
              "          dataTable['output_type'] = 'display_data';\n",
              "          await google.colab.output.renderOutput(dataTable, element);\n",
              "          const docLink = document.createElement('div');\n",
              "          docLink.innerHTML = docLinkHtml;\n",
              "          element.appendChild(docLink);\n",
              "        }\n",
              "      </script>\n",
              "    </div>\n",
              "  </div>\n",
              "  "
            ],
            "text/plain": [
              "           client_id  counter_type  invoice_month  ...  target  regions  working_time\n",
              "0     train_Client_0           1.0            6.7  ...     0.0      200           288\n",
              "1     train_Client_1           1.0            5.1  ...     0.0      200           199\n",
              "2    train_Client_10           1.0            6.6  ...     0.0      300           393\n",
              "3   train_Client_100           1.0            5.5  ...     0.0      200           265\n",
              "4  train_Client_1000           1.0            7.6  ...     0.0      300            50\n",
              "\n",
              "[5 rows x 17 columns]"
            ]
          },
          "metadata": {},
          "execution_count": 13
        }
      ]
    },
    {
      "cell_type": "markdown",
      "source": [
        "here we plot the coorelation of our data "
      ],
      "metadata": {
        "id": "Akxbj0PUwIcR"
      }
    },
    {
      "cell_type": "code",
      "execution_count": null,
      "metadata": {
        "id": "MqO9hQE30zJx",
        "colab": {
          "base_uri": "https://localhost:8080/",
          "height": 726
        },
        "outputId": "2247db78-b26f-4726-816c-b648a9650810"
      },
      "outputs": [
        {
          "output_type": "execute_result",
          "data": {
            "text/plain": [
              "<matplotlib.axes._subplots.AxesSubplot at 0x7f4f071a04d0>"
            ]
          },
          "metadata": {},
          "execution_count": 16
        },
        {
          "output_type": "display_data",
          "data": {
            "image/png": "[encoded data removed]",
            "text/plain": [
              "<Figure size 1440x720 with 2 Axes>"
            ]
          },
          "metadata": {
            "needs_background": "light"
          }
        }
      ],
      "source": [
        "figure(figsize=(20,10))\n",
        "sns.heatmap(train_data.corr().abs(), annot=True)"
      ]
    },
    {
      "cell_type": "markdown",
      "source": [
        "Now to seperate the training and target columns for both training and testing datasets."
      ],
      "metadata": {
        "id": "VqMnb_E0vzBR"
      }
    },
    {
      "cell_type": "code",
      "source": [
        "y = train_data['target']\n",
        "X = train_data.drop(['client_id','target'],axis=1)\n",
        "\n",
        "X_test = test_data.drop(['client_id'], axis=1)"
      ],
      "metadata": {
        "id": "cyF26JWsEcul"
      },
      "execution_count": null,
      "outputs": []
    },
    {
      "cell_type": "markdown",
      "source": [
        "we seperate the category columns "
      ],
      "metadata": {
        "id": "XasbHPBSv6ti"
      }
    },
    {
      "cell_type": "code",
      "source": [
        "category_cols = ['disrict', 'client_catg', 'regions']"
      ],
      "metadata": {
        "id": "rG9YlhgbkZVX"
      },
      "execution_count": null,
      "outputs": []
    },
    {
      "cell_type": "markdown",
      "source": [
        "Now to are ready to fit our model with a help of a hyperparameter optimzer called Optuna, i used it in a diffirent environment with a GPU accelerator\n",
        "\n",
        "and here with used '**StratifiedKFold**' to train our model in batchs and ROC AUC as a measurement of accuracy"
      ],
      "metadata": {
        "id": "bvtvTeo6w_Ty"
      }
    },
    {
      "cell_type": "code",
      "source": [
        "%%time\n",
        "# we got this parameters from an outside job using optuna hyperparamaters optimizer with GPU acceleration\n",
        "model = LGBMClassifier(random_state=seed, n_estimators=990,num_leaves=362, max_depth=124,\n",
        "                       learning_rate=0.008, min_split_gain=0.028, \n",
        "                       feature_fraction=0.65, bagging_freq=1)\n",
        "\n",
        "stkfold = StratifiedKFold(n_splits=5, shuffle=True, random_state=seed)\n",
        "result=[]\n",
        "local_probs=pd.DataFrame()\n",
        "probs = pd.DataFrame()\n",
        "\n",
        "for i, (tdx, vdx) in enumerate(stkfold.split(X, y)):\n",
        "    X_train, X_valid, y_train, y_valid = X.iloc[tdx], X.iloc[vdx], y[tdx], y[vdx]\n",
        "    model.fit(X_train, y_train,\n",
        "              eval_set=[(X_train, y_train), (X_valid, y_valid)],\n",
        "              early_stopping_rounds=30, verbose=False)\n",
        "    \n",
        "    preds = model.predict_proba(X_valid)\n",
        "    tmp_predict = model.predict_proba(X_test)\n",
        "    local_probs['fold_%i'%i] = tmp_predict[:,1]\n",
        "    result.append(roc_auc_score(y_valid, preds[:,1]))\n",
        "\n",
        "print('ROC AUC:', round(np.mean(result), 6))    \n",
        "local_probs['result'] = local_probs.mean(axis=1)\n",
        "probs['target'] = local_probs['result']\n"
      ],
      "metadata": {
        "id": "hySi95i58Tin",
        "colab": {
          "base_uri": "https://localhost:8080/"
        },
        "outputId": "acc3c02a-d79e-4b2f-f02a-47f64021a79b"
      },
      "execution_count": 20,
      "outputs": [
        {
          "output_type": "stream",
          "name": "stdout",
          "text": [
            "ROC AUC: 0.778186\n",
            "CPU times: user 5min 36s, sys: 4.86 s, total: 5min 41s\n",
            "Wall time: 3min 31s\n"
          ]
        }
      ]
    },
    {
      "cell_type": "markdown",
      "source": [
        "this code is for extracing the predictions of the test_client_data into a csv file"
      ],
      "metadata": {
        "id": "tzmA_7S-wWPh"
      }
    },
    {
      "cell_type": "code",
      "source": [
        "submission = pd.DataFrame({\n",
        "        \"client_id\": sample_submission[\"client_id\"],\n",
        "        \"target\": probs['target']\n",
        "    })\n",
        "submission.to_csv('Samplesubmission.csv', index=False)"
      ],
      "metadata": {
        "id": "3x55UrQLwVwD"
      },
      "execution_count": null,
      "outputs": []
    }
  ],
  "metadata": {
    "colab": {
      "collapsed_sections": [],
      "name": "ML academy Project_1.ipynb",
      "provenance": [],
      "include_colab_link": true
    },
    "kernelspec": {
      "display_name": "Python 3 (ipykernel)",
      "language": "python",
      "name": "python3"
    },
    "language_info": {
      "codemirror_mode": {
        "name": "ipython",
        "version": 3
      },
      "file_extension": ".py",
      "mimetype": "text/x-python",
      "name": "python",
      "nbconvert_exporter": "python",
      "pygments_lexer": "ipython3",
      "version": "3.8.12"
    }
  },
  "nbformat": 4,
  "nbformat_minor": 0
}